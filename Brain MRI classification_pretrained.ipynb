{
 "cells": [
  {
   "cell_type": "markdown",
   "metadata": {},
   "source": [
    "Appendix A: Code"
   ]
  },
  {
   "cell_type": "code",
   "execution_count": 2,
   "metadata": {
    "_cell_guid": "79c7e3d0-c299-4dcb-8224-4455121ee9b0",
    "_uuid": "d629ff2d2480ee46fbb7e2d37f6b5fab8052498a",
    "execution": {
     "iopub.execute_input": "2022-03-15T22:07:36.502108Z",
     "iopub.status.busy": "2022-03-15T22:07:36.501798Z",
     "iopub.status.idle": "2022-03-15T22:07:37.887787Z",
     "shell.execute_reply": "2022-03-15T22:07:37.886936Z",
     "shell.execute_reply.started": "2022-03-15T22:07:36.502080Z"
    }
   },
   "outputs": [],
   "source": [
    "import os\n",
    "import random\n",
    "import pandas as pd\n",
    "import numpy as np\n",
    "import matplotlib.pyplot as plt\n",
    "plt.style.use(\"ggplot\")\n",
    "%matplotlib inline\n",
    "\n",
    "import cv2\n",
    "from tqdm import tqdm_notebook, tnrange\n",
    "from glob import glob\n",
    "from itertools import chain\n",
    "from skimage.io import imread, imshow, concatenate_images\n",
    "from skimage.transform import resize\n",
    "from skimage.morphology import label\n",
    "from sklearn.model_selection import train_test_split\n",
    "from sklearn.metrics import *\n",
    "\n",
    "\n",
    "import tensorflow as tf\n",
    "from skimage.color import rgb2gray\n",
    "from tensorflow.keras import Input\n",
    "from tensorflow.keras.models import Model, load_model, save_model, Sequential\n",
    "from tensorflow.keras.layers import *\n",
    "from tensorflow.keras.optimizers import Adam\n",
    "from tensorflow.keras.callbacks import EarlyStopping, ModelCheckpoint,  ReduceLROnPlateau, LearningRateScheduler\n",
    "\n",
    "from tensorflow.keras.preprocessing.image import ImageDataGenerator\n",
    "\n",
    "from tensorflow.keras.applications.resnet50 import ResNet50\n",
    "from tensorflow.keras.initializers import glorot_uniform\n",
    "from tensorflow.keras.applications import DenseNet121"
   ]
  },
  {
   "cell_type": "code",
   "execution_count": 3,
   "metadata": {
    "execution": {
     "iopub.execute_input": "2022-03-15T22:07:37.889808Z",
     "iopub.status.busy": "2022-03-15T22:07:37.889415Z",
     "iopub.status.idle": "2022-03-15T22:07:39.878185Z",
     "shell.execute_reply": "2022-03-15T22:07:39.877351Z",
     "shell.execute_reply.started": "2022-03-15T22:07:37.889768Z"
    }
   },
   "outputs": [],
   "source": [
    "train_files = []\n",
    "mask_files = glob('../input/lgg-mri-segmentation/kaggle_3m/*/*_mask*')\n",
    "\n",
    "for i in mask_files:\n",
    "    train_files.append(i.replace('_mask',''))"
   ]
  },
  {
   "cell_type": "code",
   "execution_count": 4,
   "metadata": {
    "execution": {
     "iopub.execute_input": "2022-03-15T22:07:39.887997Z",
     "iopub.status.busy": "2022-03-15T22:07:39.887714Z",
     "iopub.status.idle": "2022-03-15T22:08:08.090355Z",
     "shell.execute_reply": "2022-03-15T22:08:08.089392Z",
     "shell.execute_reply.started": "2022-03-15T22:07:39.887969Z"
    }
   },
   "outputs": [],
   "source": [
    "def label(mask):\n",
    "    value = np.max(cv2.imread(mask))\n",
    "    return '1' if value > 0 else '0'\n",
    "\n",
    "df = pd.DataFrame({\"image\": train_files,\n",
    "                   \"mask\": mask_files,\n",
    "                  \"label\":[label(x) for x in mask_files]})\n",
    "\n",
    "df_train, df_test = train_test_split(df,test_size = 0.25, stratify=df['label'])\n",
    "df_train, df_val = train_test_split(df_train,test_size = 0.4, stratify=df_train['label'])\n",
    "print(df_train.values.shape)\n",
    "print(df_val.values.shape)\n",
    "print(df_test.values.shape)"
   ]
  },
  {
   "cell_type": "code",
   "execution_count": 5,
   "metadata": {
    "execution": {
     "iopub.execute_input": "2022-03-15T22:08:08.092565Z",
     "iopub.status.busy": "2022-03-15T22:08:08.092286Z",
     "iopub.status.idle": "2022-03-15T22:08:08.102100Z",
     "shell.execute_reply": "2022-03-15T22:08:08.101246Z",
     "shell.execute_reply.started": "2022-03-15T22:08:08.092537Z"
    }
   },
   "outputs": [],
   "source": [
    "def img_load(preprocess):\n",
    "    train_generator_args = dict(rescale=1. / 255, \n",
    "                            rotation_range=0.2,\n",
    "                            width_shift_range=0.05,\n",
    "                            height_shift_range=0.05,\n",
    "                            shear_range=0.05,\n",
    "                            zoom_range=0.05,\n",
    "                            horizontal_flip=True,\n",
    "                            fill_mode='nearest',\n",
    "                           preprocessing_function = preprocess)\n",
    "    train_datagen = ImageDataGenerator(**train_generator_args)\n",
    "    img_gen = ImageDataGenerator(rescale=1. / 255,  preprocessing_function = preprocess)\n",
    "    \n",
    "    train_gen = train_datagen.flow_from_dataframe(df_train,\n",
    "                                                x_col = \"image\",\n",
    "                                                y_col = 'label',\n",
    "                                                class_mode = 'binary',\n",
    "                                                 target_size = (256,256))\n",
    "    \n",
    "    val_gen = img_gen.flow_from_dataframe(\n",
    "                                        df_val,\n",
    "                                        x_col = \"image\",\n",
    "                                        y_col = 'label',\n",
    "                                        class_mode = 'binary',\n",
    "                                        shuffle=False,\n",
    "                                                 target_size = (256,256))\n",
    "\n",
    "    test_gen = img_gen.flow_from_dataframe(\n",
    "                                        df_test,\n",
    "                                        x_col = \"image\",\n",
    "                                        y_col = 'label',\n",
    "                                        class_mode = 'binary',\n",
    "                                        shuffle=False,\n",
    "                                                 target_size = (256,256))\n",
    "    return train_gen, val_gen, test_gen"
   ]
  },
  {
   "cell_type": "code",
   "execution_count": 6,
   "metadata": {
    "execution": {
     "iopub.execute_input": "2022-03-15T22:08:08.104102Z",
     "iopub.status.busy": "2022-03-15T22:08:08.103498Z",
     "iopub.status.idle": "2022-03-15T22:08:08.116423Z",
     "shell.execute_reply": "2022-03-15T22:08:08.115684Z",
     "shell.execute_reply.started": "2022-03-15T22:08:08.104066Z"
    }
   },
   "outputs": [],
   "source": [
    "def callbacklist(modelname='model'):\n",
    "    reduce_lr = ReduceLROnPlateau(monitor='val_loss', mode='min', verbose=1, patience=10,min_delta=0.0001, factor=0.2)\n",
    "    checkpointer = ModelCheckpoint(modelname +'.hdf5', verbose=1, save_best_only=True)\n",
    "    earlystopping = EarlyStopping(monitor='val_loss', mode='min', verbose=1,patience=20)\n",
    "    callback_list = [reduce_lr, checkpointer, earlystopping]\n",
    "    return callback_list"
   ]
  },
  {
   "cell_type": "code",
   "execution_count": 7,
   "metadata": {
    "execution": {
     "iopub.execute_input": "2022-03-15T22:08:08.118415Z",
     "iopub.status.busy": "2022-03-15T22:08:08.117913Z",
     "iopub.status.idle": "2022-03-15T22:08:08.129932Z",
     "shell.execute_reply": "2022-03-15T22:08:08.129009Z",
     "shell.execute_reply.started": "2022-03-15T22:08:08.118378Z"
    }
   },
   "outputs": [],
   "source": [
    "def loss_acc_plot(modelhistory):\n",
    "    scores = pd.DataFrame(modelhistory.history)\n",
    "    scores[['loss', 'val_loss']].plot();\n",
    "    scores[['acc', 'val_acc']].plot();\n",
    "def test_pred(model):\n",
    "    y_pred = np.round(model.predict(test_gen))\n",
    "    y_test = test_gen.classes\n",
    "    print(classification_report(y_test, y_pred))\n",
    "    return"
   ]
  },
  {
   "cell_type": "markdown",
   "metadata": {},
   "source": [
    "# ResNet50"
   ]
  },
  {
   "cell_type": "code",
   "execution_count": 23,
   "metadata": {
    "execution": {
     "iopub.execute_input": "2022-03-15T14:58:11.876210Z",
     "iopub.status.busy": "2022-03-15T14:58:11.875887Z",
     "iopub.status.idle": "2022-03-15T14:58:12.564923Z",
     "shell.execute_reply": "2022-03-15T14:58:12.564083Z",
     "shell.execute_reply.started": "2022-03-15T14:58:11.876181Z"
    }
   },
   "outputs": [],
   "source": [
    "resnet_preprocess = tf.keras.applications.resnet50.preprocess_input\n",
    "\n",
    "train_gen, val_gen, test_gen = img_load(resnet_preprocess)"
   ]
  },
  {
   "cell_type": "code",
   "execution_count": 25,
   "metadata": {
    "execution": {
     "iopub.execute_input": "2022-03-15T14:59:18.960645Z",
     "iopub.status.busy": "2022-03-15T14:59:18.960247Z",
     "iopub.status.idle": "2022-03-15T15:14:41.160070Z",
     "shell.execute_reply": "2022-03-15T15:14:41.159190Z",
     "shell.execute_reply.started": "2022-03-15T14:59:18.960615Z"
    }
   },
   "outputs": [],
   "source": [
    "model = Sequential()\n",
    "model.add(ResNet50(include_top = False, weights = 'imagenet'))\n",
    "model.add(GlobalAveragePooling2D())\n",
    "model.add(Dropout(0.2))\n",
    "model.add(Dense(1, activation = 'sigmoid'))\n",
    "model.layers[0].trainable = False \n",
    "\n",
    "model.summary()\n",
    "\n",
    "model.compile(optimizer=Adam(lr=0.001), loss='binary_crossentropy', metrics=['acc'])\n",
    "\n",
    "callback_list = callbacklist('resnet50')\n",
    "\n",
    "history = model.fit(train_gen,\n",
    "                    epochs=30, \n",
    "                    callbacks=callback_list,\n",
    "                    validation_data = val_gen)\n",
    "\n",
    "loss_acc_plot(history)\n",
    "test_pred(model)"
   ]
  },
  {
   "cell_type": "code",
   "execution_count": 26,
   "metadata": {
    "execution": {
     "iopub.execute_input": "2022-03-15T15:14:41.162766Z",
     "iopub.status.busy": "2022-03-15T15:14:41.162360Z",
     "iopub.status.idle": "2022-03-15T15:26:02.720719Z",
     "shell.execute_reply": "2022-03-15T15:26:02.720054Z",
     "shell.execute_reply.started": "2022-03-15T15:14:41.162723Z"
    }
   },
   "outputs": [],
   "source": [
    "model.layers[0].trainable = True\n",
    "\n",
    "model.summary()\n",
    "\n",
    "model.compile(optimizer=Adam(lr=0.00001), loss='binary_crossentropy', metrics=['acc'])\n",
    "\n",
    "history = model.fit(train_gen,\n",
    "                    epochs=20, \n",
    "                    callbacks=callback_list,\n",
    "                    validation_data = val_gen)\n",
    "\n",
    "loss_acc_plot(history)\n",
    "test_pred(model)"
   ]
  },
  {
   "cell_type": "markdown",
   "metadata": {},
   "source": [
    "# VGG19"
   ]
  },
  {
   "cell_type": "code",
   "execution_count": null,
   "metadata": {
    "execution": {
     "iopub.execute_input": "2022-03-15T22:08:08.132800Z",
     "iopub.status.busy": "2022-03-15T22:08:08.132427Z"
    }
   },
   "outputs": [],
   "source": [
    "from tensorflow.keras.applications import VGG19\n",
    "\n",
    "resnet_preprocess = tf.keras.applications.vgg19.preprocess_input\n",
    "\n",
    "train_gen, val_gen, test_gen = img_load(resnet_preprocess)\n",
    "\n",
    "\n",
    "\n",
    "model = Sequential()\n",
    "model.add(VGG19(include_top = False, weights = 'imagenet'))\n",
    "model.add(GlobalAveragePooling2D())\n",
    "model.add(Dense(1, activation = 'sigmoid'))\n",
    "model.layers[0].trainable = False \n",
    "\n",
    "model.summary()\n",
    "\n",
    "model.compile(optimizer=Adam(lr=0.001), loss='binary_crossentropy', metrics=['acc'])\n",
    "\n",
    "callback_list = callbacklist('vgg19')\n",
    "\n",
    "history = model.fit(train_gen,\n",
    "                    epochs=30, \n",
    "                    callbacks=callback_list,\n",
    "                    validation_data = val_gen)\n",
    "\n",
    "loss_acc_plot(history)\n",
    "test_pred(model)"
   ]
  },
  {
   "cell_type": "code",
   "execution_count": null,
   "metadata": {},
   "outputs": [],
   "source": [
    "model.layers[0].trainable = True\n",
    "\n",
    "model.summary()\n",
    "\n",
    "model.compile(optimizer=Adam(lr=0.00001), loss='binary_crossentropy', metrics=['acc'])\n",
    "\n",
    "history = model.fit(train_gen,\n",
    "                    epochs=20, \n",
    "                    callbacks=callback_list,\n",
    "                    validation_data = val_gen)\n",
    "\n",
    "loss_acc_plot(history)\n",
    "test_pred(model)"
   ]
  },
  {
   "cell_type": "markdown",
   "metadata": {},
   "source": [
    "# InceptionV3"
   ]
  },
  {
   "cell_type": "code",
   "execution_count": 29,
   "metadata": {
    "execution": {
     "iopub.execute_input": "2022-03-15T15:54:37.423331Z",
     "iopub.status.busy": "2022-03-15T15:54:37.422928Z",
     "iopub.status.idle": "2022-03-15T16:09:41.758551Z",
     "shell.execute_reply": "2022-03-15T16:09:41.757455Z",
     "shell.execute_reply.started": "2022-03-15T15:54:37.423290Z"
    }
   },
   "outputs": [],
   "source": [
    "from tensorflow.keras.applications import InceptionV3\n",
    "\n",
    "inception_preprocess = tf.keras.applications.inception_v3.preprocess_input\n",
    "\n",
    "train_gen, val_gen, test_gen = img_load(inception_preprocess)\n",
    "\n",
    "model = Sequential()\n",
    "model.add(InceptionV3(include_top = False, weights = 'imagenet'))\n",
    "model.add(GlobalAveragePooling2D())\n",
    "model.add(Dense(1, activation = 'sigmoid'))\n",
    "model.layers[0].trainable = False \n",
    "\n",
    "model.summary()\n",
    "\n",
    "model.compile(optimizer=Adam(lr=0.001), loss='binary_crossentropy', metrics=['acc'])\n",
    "\n",
    "callback_list = callbacklist('inceptionv3')\n",
    "\n",
    "history = model.fit(train_gen,\n",
    "                    epochs=30, \n",
    "                    callbacks=callback_list,\n",
    "                    validation_data = val_gen)\n",
    "\n",
    "loss_acc_plot(history)\n",
    "test_pred(model)"
   ]
  },
  {
   "cell_type": "code",
   "execution_count": 30,
   "metadata": {
    "execution": {
     "iopub.execute_input": "2022-03-15T16:09:41.761214Z",
     "iopub.status.busy": "2022-03-15T16:09:41.760805Z",
     "iopub.status.idle": "2022-03-15T16:21:19.424348Z",
     "shell.execute_reply": "2022-03-15T16:21:19.423278Z",
     "shell.execute_reply.started": "2022-03-15T16:09:41.761173Z"
    }
   },
   "outputs": [],
   "source": [
    "model.layers[0].trainable = True\n",
    "\n",
    "model.summary()\n",
    "\n",
    "model.compile(optimizer=Adam(lr=0.00001), loss='binary_crossentropy', metrics=['acc'])\n",
    "\n",
    "history = model.fit(train_gen,\n",
    "                    epochs=20, \n",
    "                    callbacks=callback_list,\n",
    "                    validation_data = val_gen)\n",
    "\n",
    "loss_acc_plot(history)\n",
    "test_pred(model)"
   ]
  },
  {
   "cell_type": "markdown",
   "metadata": {},
   "source": [
    "# DenseNet121"
   ]
  },
  {
   "cell_type": "code",
   "execution_count": 31,
   "metadata": {
    "execution": {
     "iopub.execute_input": "2022-03-15T16:21:19.426469Z",
     "iopub.status.busy": "2022-03-15T16:21:19.426047Z",
     "iopub.status.idle": "2022-03-15T16:38:00.345464Z",
     "shell.execute_reply": "2022-03-15T16:38:00.344452Z",
     "shell.execute_reply.started": "2022-03-15T16:21:19.426427Z"
    }
   },
   "outputs": [],
   "source": [
    "dense_preprocess = tf.keras.applications.densenet.preprocess_input \n",
    "\n",
    "train_gen, val_gen, test_gen = img_load(dense_preprocess)\n",
    "\n",
    "model = Sequential()\n",
    "model.add(DenseNet121(include_top = False, weights = 'imagenet'))\n",
    "model.add(GlobalAveragePooling2D())\n",
    "model.add(Dense(1, activation = 'sigmoid'))\n",
    "model.layers[0].trainable = False \n",
    "\n",
    "model.summary()\n",
    "\n",
    "model.compile(optimizer=Adam(lr=0.001), loss='binary_crossentropy', metrics=['acc'])\n",
    "\n",
    "callback_list = callbacklist('DenseNet121')\n",
    "\n",
    "history = model.fit(train_gen,\n",
    "                    epochs=30, \n",
    "                    callbacks=callback_list,\n",
    "                    validation_data = val_gen)\n",
    "\n",
    "loss_acc_plot(history)\n",
    "test_pred(model)"
   ]
  },
  {
   "cell_type": "code",
   "execution_count": 32,
   "metadata": {
    "execution": {
     "iopub.execute_input": "2022-03-15T16:38:00.347694Z",
     "iopub.status.busy": "2022-03-15T16:38:00.347218Z",
     "iopub.status.idle": "2022-03-15T16:50:58.568955Z",
     "shell.execute_reply": "2022-03-15T16:50:58.568068Z",
     "shell.execute_reply.started": "2022-03-15T16:38:00.347646Z"
    }
   },
   "outputs": [],
   "source": [
    "model.layers[0].trainable = True\n",
    "\n",
    "model.summary()\n",
    "\n",
    "model.compile(optimizer=Adam(lr=0.00001), loss='binary_crossentropy', metrics=['acc'])\n",
    "\n",
    "history = model.fit(train_gen,\n",
    "                    epochs=20, \n",
    "                    callbacks=callback_list,\n",
    "                    validation_data = val_gen)\n",
    "\n",
    "loss_acc_plot(history)\n",
    "test_pred(model)"
   ]
  }
 ],
 "metadata": {
  "kernelspec": {
   "display_name": "Python 3",
   "language": "python",
   "name": "python3"
  },
  "language_info": {
   "codemirror_mode": {
    "name": "ipython",
    "version": 3
   },
   "file_extension": ".py",
   "mimetype": "text/x-python",
   "name": "python",
   "nbconvert_exporter": "python",
   "pygments_lexer": "ipython3",
   "version": "3.7.10"
  }
 },
 "nbformat": 4,
 "nbformat_minor": 4
}
