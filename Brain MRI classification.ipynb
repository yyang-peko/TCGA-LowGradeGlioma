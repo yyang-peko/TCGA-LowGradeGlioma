{
 "cells": [
  {
   "cell_type": "code",
   "execution_count": 1,
   "id": "9e0577d4",
   "metadata": {},
   "outputs": [],
   "source": [
    "import os\n",
    "import random\n",
    "import pandas as pd\n",
    "import numpy as np\n",
    "import matplotlib.pyplot as plt\n",
    "plt.style.use(\"ggplot\")\n",
    "%matplotlib inline\n",
    "\n",
    "import cv2\n",
    "from tqdm import tqdm_notebook, tnrange\n",
    "from glob import glob\n",
    "from itertools import chain\n",
    "from skimage.io import imread, imshow, concatenate_images\n",
    "from skimage.transform import resize\n",
    "from skimage.morphology import label\n",
    "from sklearn.model_selection import train_test_split\n",
    "from sklearn.metrics import *\n",
    "\n",
    "import tensorflow as tf\n",
    "from skimage.color import rgb2gray\n",
    "from tensorflow.keras.regularizers import l2\n",
    "from tensorflow.keras import Input\n",
    "from tensorflow.keras.models import Model, load_model, save_model, Sequential\n",
    "from tensorflow.keras.layers import *\n",
    "from tensorflow.keras.optimizers import Adam\n",
    "from tensorflow.keras.callbacks import EarlyStopping, ModelCheckpoint, ReduceLROnPlateau\n",
    "from tensorflow.keras.applications.resnet50 import preprocess_input\n",
    "\n",
    "from tensorflow.keras import backend as K\n",
    "from tensorflow.keras.preprocessing.image import ImageDataGenerator, array_to_img, img_to_array, load_img"
   ]
  },
  {
   "cell_type": "markdown",
   "id": "1fc8a58f",
   "metadata": {},
   "source": [
    "# Load files"
   ]
  },
  {
   "cell_type": "code",
   "execution_count": 2,
   "id": "bcdd3aee",
   "metadata": {},
   "outputs": [
    {
     "name": "stdout",
     "output_type": "stream",
     "text": [
      "['./data/lgg-mri-segmentation/kaggle_3m\\\\TCGA_CS_4941_19960909\\\\TCGA_CS_4941_19960909_10.tif', './data/lgg-mri-segmentation/kaggle_3m\\\\TCGA_CS_4941_19960909\\\\TCGA_CS_4941_19960909_11.tif', './data/lgg-mri-segmentation/kaggle_3m\\\\TCGA_CS_4941_19960909\\\\TCGA_CS_4941_19960909_12.tif', './data/lgg-mri-segmentation/kaggle_3m\\\\TCGA_CS_4941_19960909\\\\TCGA_CS_4941_19960909_13.tif', './data/lgg-mri-segmentation/kaggle_3m\\\\TCGA_CS_4941_19960909\\\\TCGA_CS_4941_19960909_14.tif', './data/lgg-mri-segmentation/kaggle_3m\\\\TCGA_CS_4941_19960909\\\\TCGA_CS_4941_19960909_15.tif', './data/lgg-mri-segmentation/kaggle_3m\\\\TCGA_CS_4941_19960909\\\\TCGA_CS_4941_19960909_16.tif', './data/lgg-mri-segmentation/kaggle_3m\\\\TCGA_CS_4941_19960909\\\\TCGA_CS_4941_19960909_17.tif', './data/lgg-mri-segmentation/kaggle_3m\\\\TCGA_CS_4941_19960909\\\\TCGA_CS_4941_19960909_18.tif', './data/lgg-mri-segmentation/kaggle_3m\\\\TCGA_CS_4941_19960909\\\\TCGA_CS_4941_19960909_19.tif']\n",
      "['./data/lgg-mri-segmentation/kaggle_3m\\\\TCGA_CS_4941_19960909\\\\TCGA_CS_4941_19960909_10_mask.tif', './data/lgg-mri-segmentation/kaggle_3m\\\\TCGA_CS_4941_19960909\\\\TCGA_CS_4941_19960909_11_mask.tif', './data/lgg-mri-segmentation/kaggle_3m\\\\TCGA_CS_4941_19960909\\\\TCGA_CS_4941_19960909_12_mask.tif', './data/lgg-mri-segmentation/kaggle_3m\\\\TCGA_CS_4941_19960909\\\\TCGA_CS_4941_19960909_13_mask.tif', './data/lgg-mri-segmentation/kaggle_3m\\\\TCGA_CS_4941_19960909\\\\TCGA_CS_4941_19960909_14_mask.tif', './data/lgg-mri-segmentation/kaggle_3m\\\\TCGA_CS_4941_19960909\\\\TCGA_CS_4941_19960909_15_mask.tif', './data/lgg-mri-segmentation/kaggle_3m\\\\TCGA_CS_4941_19960909\\\\TCGA_CS_4941_19960909_16_mask.tif', './data/lgg-mri-segmentation/kaggle_3m\\\\TCGA_CS_4941_19960909\\\\TCGA_CS_4941_19960909_17_mask.tif', './data/lgg-mri-segmentation/kaggle_3m\\\\TCGA_CS_4941_19960909\\\\TCGA_CS_4941_19960909_18_mask.tif', './data/lgg-mri-segmentation/kaggle_3m\\\\TCGA_CS_4941_19960909\\\\TCGA_CS_4941_19960909_19_mask.tif']\n"
     ]
    }
   ],
   "source": [
    "train_files = []\n",
    "mask_files = glob('./data/lgg-mri-segmentation/kaggle_3m/*/*_mask*')\n",
    "\n",
    "for i in mask_files:\n",
    "    train_files.append(i.replace('_mask',''))\n",
    "\n",
    "print(train_files[:10])\n",
    "print(mask_files[:10])"
   ]
  },
  {
   "cell_type": "markdown",
   "id": "49f9ef7d",
   "metadata": {},
   "source": [
    "# split into train test val"
   ]
  },
  {
   "cell_type": "code",
   "execution_count": 3,
   "id": "c1a5c2bb",
   "metadata": {},
   "outputs": [],
   "source": [
    "def label(mask):\n",
    "    value = np.max(cv2.imread(mask))\n",
    "    return '1' if value > 0 else '0'\n",
    "df = pd.DataFrame({\"image\": train_files,\n",
    "                   \"mask\": mask_files,\n",
    "                  \"label\":[label(x) for x in mask_files]})"
   ]
  },
  {
   "cell_type": "code",
   "execution_count": 4,
   "id": "1a0493fa",
   "metadata": {},
   "outputs": [
    {
     "name": "stdout",
     "output_type": "stream",
     "text": [
      "(1767, 3)\n",
      "(1179, 3)\n",
      "(983, 3)\n"
     ]
    }
   ],
   "source": [
    "df_train, df_test = train_test_split(df,test_size = 0.25, stratify=df['label'])\n",
    "df_train, df_val = train_test_split(df_train,test_size = 0.4, stratify=df_train['label'])\n",
    "print(df_train.values.shape)\n",
    "print(df_val.values.shape)\n",
    "print(df_test.values.shape)"
   ]
  },
  {
   "cell_type": "code",
   "execution_count": 5,
   "id": "379049a5",
   "metadata": {},
   "outputs": [
    {
     "data": {
      "image/png": "[encoded data removed]",
      "text/plain": [
       "<Figure size 432x288 with 1 Axes>"
      ]
     },
     "metadata": {
      "needs_background": "light"
     },
     "output_type": "display_data"
    }
   ],
   "source": [
    "sns.countplot(data=df,x=df['label'])\n",
    "plt.title('Length Of Classes')\n",
    "plt.show();"
   ]
  },
  {
   "cell_type": "code",
   "execution_count": 6,
   "id": "8de76a4f",
   "metadata": {},
   "outputs": [
    {
     "data": {
      "text/plain": [
       "<AxesSubplot:xlabel='label', ylabel='count'>"
      ]
     },
     "execution_count": 6,
     "metadata": {},
     "output_type": "execute_result"
    },
    {
     "data": {
      "image/png": "[encoded data removed]",
      "text/plain": [
       "<Figure size 432x288 with 1 Axes>"
      ]
     },
     "metadata": {
      "needs_background": "light"
     },
     "output_type": "display_data"
    }
   ],
   "source": [
    "sns.countplot(data=df_test,x=df_test['label'])"
   ]
  },
  {
   "cell_type": "code",
   "execution_count": 7,
   "id": "02ac3c2a",
   "metadata": {},
   "outputs": [
    {
     "data": {
      "text/plain": [
       "<AxesSubplot:xlabel='label', ylabel='count'>"
      ]
     },
     "execution_count": 7,
     "metadata": {},
     "output_type": "execute_result"
    },
    {
     "data": {
      "image/png": "[encoded data removed]",
      "text/plain": [
       "<Figure size 432x288 with 1 Axes>"
      ]
     },
     "metadata": {
      "needs_background": "light"
     },
     "output_type": "display_data"
    }
   ],
   "source": [
    "sns.countplot(data=df_val,x=df_val['label'])"
   ]
  },
  {
   "cell_type": "markdown",
   "id": "42babd8d",
   "metadata": {},
   "source": [
    "# Loading images"
   ]
  },
  {
   "cell_type": "code",
   "execution_count": 8,
   "id": "07f3ed11",
   "metadata": {},
   "outputs": [],
   "source": [
    "train_generator_args = dict(rescale=1. / 255, \n",
    "                            rotation_range=0.2,\n",
    "                            width_shift_range=0.05,\n",
    "                            height_shift_range=0.05,\n",
    "                            shear_range=0.05,\n",
    "                            zoom_range=0.05,\n",
    "                            horizontal_flip=True,\n",
    "                            fill_mode='nearest',\n",
    "                           preprocessing_function = preprocess_input)\n",
    "\n",
    "train_datagen = ImageDataGenerator(**train_generator_args)"
   ]
  },
  {
   "cell_type": "code",
   "execution_count": 9,
   "id": "7ac40983",
   "metadata": {},
   "outputs": [
    {
     "name": "stdout",
     "output_type": "stream",
     "text": [
      "Found 1767 validated image filenames belonging to 2 classes.\n"
     ]
    }
   ],
   "source": [
    "train_gen = train_datagen.flow_from_dataframe(\n",
    "                                            df_train,\n",
    "                                            x_col = \"image\",\n",
    "                                            y_col = 'label',\n",
    "                                            class_mode = 'binary',\n",
    "                                            color_mode = \"rgb\",\n",
    "                                            target_size = (256,256),\n",
    "                                            batch_size = 32,\n",
    "                                            save_to_dir = None,\n",
    "                                            save_prefix  = \"image\")"
   ]
  },
  {
   "cell_type": "code",
   "execution_count": 10,
   "id": "c3dfab2b",
   "metadata": {},
   "outputs": [
    {
     "name": "stdout",
     "output_type": "stream",
     "text": [
      "Found 1179 validated image filenames belonging to 2 classes.\n",
      "Found 983 validated image filenames belonging to 2 classes.\n"
     ]
    }
   ],
   "source": [
    "img_gen = ImageDataGenerator(rescale=1. / 255, \n",
    "                             preprocessing_function = preprocess_input)\n",
    "\n",
    "val_gen = img_gen.flow_from_dataframe(\n",
    "                                        df_val,\n",
    "                                        x_col = \"image\",\n",
    "                                        y_col = 'label',\n",
    "                                        class_mode = 'binary',\n",
    "                                        color_mode = \"rgb\",\n",
    "                                        target_size = (256,256),\n",
    "                                        batch_size = 32,\n",
    "                                        save_to_dir = None,\n",
    "                                        save_prefix  = \"image\",\n",
    "                                        shuffle=False)\n",
    "\n",
    "test_gen = img_gen.flow_from_dataframe(\n",
    "                                        df_test,\n",
    "                                        x_col = \"image\",\n",
    "                                        y_col = 'label',\n",
    "                                        class_mode = 'binary',\n",
    "                                        color_mode = \"rgb\",\n",
    "                                        target_size = (256,256),\n",
    "                                        batch_size = 32,\n",
    "                                        save_to_dir = None,\n",
    "                                        save_prefix  = \"image\",\n",
    "                                        shuffle=False)"
   ]
  },
  {
   "cell_type": "markdown",
   "id": "43274f02",
   "metadata": {},
   "source": [
    "# Model design"
   ]
  },
  {
   "cell_type": "markdown",
   "id": "1c65c502",
   "metadata": {},
   "source": [
    "# 4 layer conv"
   ]
  },
  {
   "cell_type": "code",
   "execution_count": 24,
   "id": "eb794a07",
   "metadata": {},
   "outputs": [],
   "source": [
    "classifier=Sequential([\n",
    "    \n",
    "                Conv2D(64,3,activation='relu',input_shape=(256,256,3)),\n",
    "                BatchNormalization(),              \n",
    "                MaxPooling2D(3),\n",
    "    \n",
    "                Conv2D(128,3,activation='relu'),\n",
    "                BatchNormalization(),\n",
    "                MaxPooling2D(3),\n",
    "    \n",
    "                Conv2D(128,3,activation='relu'),\n",
    "                BatchNormalization(),\n",
    "                MaxPooling2D(3),\n",
    "\n",
    "                Conv2D(256,3,padding='valid',activation='relu'),\n",
    "                BatchNormalization(),\n",
    "                MaxPooling2D(3),\n",
    "\n",
    "                Flatten(),\n",
    "    \n",
    "                Dense(1024,activation='relu'),\n",
    "                BatchNormalization(),\n",
    "    \n",
    "                Dense(256,activation='relu'),\n",
    "                BatchNormalization(),\n",
    "    \n",
    "                Dense(1,activation='sigmoid')\n",
    "                  \n",
    "])"
   ]
  },
  {
   "cell_type": "code",
   "execution_count": 25,
   "id": "2a3f0093",
   "metadata": {
    "scrolled": false
   },
   "outputs": [
    {
     "name": "stdout",
     "output_type": "stream",
     "text": [
      "Model: \"sequential_4\"\n",
      "_________________________________________________________________\n",
      " Layer (type)                Output Shape              Param #   \n",
      "=================================================================\n",
      " conv2d_18 (Conv2D)          (None, 254, 254, 64)      1792      \n",
      "                                                                 \n",
      " batch_normalization_20 (Bat  (None, 254, 254, 64)     256       \n",
      " chNormalization)                                                \n",
      "                                                                 \n",
      " max_pooling2d_14 (MaxPoolin  (None, 84, 84, 64)       0         \n",
      " g2D)                                                            \n",
      "                                                                 \n",
      " conv2d_19 (Conv2D)          (None, 82, 82, 128)       73856     \n",
      "                                                                 \n",
      " batch_normalization_21 (Bat  (None, 82, 82, 128)      512       \n",
      " chNormalization)                                                \n",
      "                                                                 \n",
      " max_pooling2d_15 (MaxPoolin  (None, 27, 27, 128)      0         \n",
      " g2D)                                                            \n",
      "                                                                 \n",
      " conv2d_20 (Conv2D)          (None, 25, 25, 128)       147584    \n",
      "                                                                 \n",
      " batch_normalization_22 (Bat  (None, 25, 25, 128)      512       \n",
      " chNormalization)                                                \n",
      "                                                                 \n",
      " max_pooling2d_16 (MaxPoolin  (None, 8, 8, 128)        0         \n",
      " g2D)                                                            \n",
      "                                                                 \n",
      " conv2d_21 (Conv2D)          (None, 6, 6, 256)         295168    \n",
      "                                                                 \n",
      " batch_normalization_23 (Bat  (None, 6, 6, 256)        1024      \n",
      " chNormalization)                                                \n",
      "                                                                 \n",
      " max_pooling2d_17 (MaxPoolin  (None, 2, 2, 256)        0         \n",
      " g2D)                                                            \n",
      "                                                                 \n",
      " flatten_4 (Flatten)         (None, 1024)              0         \n",
      "                                                                 \n",
      " dense_11 (Dense)            (None, 1024)              1049600   \n",
      "                                                                 \n",
      " batch_normalization_24 (Bat  (None, 1024)             4096      \n",
      " chNormalization)                                                \n",
      "                                                                 \n",
      " dense_12 (Dense)            (None, 256)               262400    \n",
      "                                                                 \n",
      " batch_normalization_25 (Bat  (None, 256)              1024      \n",
      " chNormalization)                                                \n",
      "                                                                 \n",
      " dense_13 (Dense)            (None, 1)                 257       \n",
      "                                                                 \n",
      "=================================================================\n",
      "Total params: 1,838,081\n",
      "Trainable params: 1,834,369\n",
      "Non-trainable params: 3,712\n",
      "_________________________________________________________________\n"
     ]
    }
   ],
   "source": [
    "classifier.summary()"
   ]
  },
  {
   "cell_type": "code",
   "execution_count": 13,
   "id": "9de65b62",
   "metadata": {},
   "outputs": [],
   "source": [
    "reduce_lr = ReduceLROnPlateau(monitor='val_loss', mode='min', verbose=1, patience=10,min_delta=0.0001, factor=0.2)\n",
    "checkpointer = ModelCheckpoint('basicCNN' +'.hdf5', verbose=1, save_best_only=True)\n",
    "earlystopping = EarlyStopping(monitor='val_loss', mode='min', verbose=1,patience=20)\n",
    "callback_list = [reduce_lr, checkpointer, earlystopping]"
   ]
  },
  {
   "cell_type": "code",
   "execution_count": 15,
   "id": "3a3717c9",
   "metadata": {
    "scrolled": false
   },
   "outputs": [
    {
     "name": "stdout",
     "output_type": "stream",
     "text": [
      "Epoch 1/40\n",
      "56/56 [==============================] - ETA: 0s - loss: 0.3139 - accuracy: 0.8676\n",
      "Epoch 00001: val_loss did not improve from 0.58389\n",
      "56/56 [==============================] - 94s 2s/step - loss: 0.3139 - accuracy: 0.8676 - val_loss: 0.7964 - val_accuracy: 0.6599 - lr: 0.0010\n",
      "Epoch 2/40\n",
      "56/56 [==============================] - ETA: 0s - loss: 0.2891 - accuracy: 0.8812\n",
      "Epoch 00002: val_loss did not improve from 0.58389\n",
      "56/56 [==============================] - 97s 2s/step - loss: 0.2891 - accuracy: 0.8812 - val_loss: 0.6317 - val_accuracy: 0.6938 - lr: 0.0010\n",
      "Epoch 3/40\n",
      "56/56 [==============================] - ETA: 0s - loss: 0.2413 - accuracy: 0.9061\n",
      "Epoch 00003: val_loss did not improve from 0.58389\n",
      "56/56 [==============================] - 95s 2s/step - loss: 0.2413 - accuracy: 0.9061 - val_loss: 0.9116 - val_accuracy: 0.6785 - lr: 0.0010\n",
      "Epoch 4/40\n",
      "56/56 [==============================] - ETA: 0s - loss: 0.2296 - accuracy: 0.9083\n",
      "Epoch 00004: val_loss improved from 0.58389 to 0.35510, saving model to basicCNN.hdf5\n",
      "56/56 [==============================] - 95s 2s/step - loss: 0.2296 - accuracy: 0.9083 - val_loss: 0.3551 - val_accuracy: 0.8405 - lr: 0.0010\n",
      "Epoch 5/40\n",
      "56/56 [==============================] - ETA: 0s - loss: 0.2113 - accuracy: 0.9225\n",
      "Epoch 00005: val_loss did not improve from 0.35510\n",
      "56/56 [==============================] - 101s 2s/step - loss: 0.2113 - accuracy: 0.9225 - val_loss: 0.4848 - val_accuracy: 0.7947 - lr: 0.0010\n",
      "Epoch 6/40\n",
      "56/56 [==============================] - ETA: 0s - loss: 0.2200 - accuracy: 0.9145\n",
      "Epoch 00006: val_loss improved from 0.35510 to 0.21961, saving model to basicCNN.hdf5\n",
      "56/56 [==============================] - 98s 2s/step - loss: 0.2200 - accuracy: 0.9145 - val_loss: 0.2196 - val_accuracy: 0.9169 - lr: 0.0010\n",
      "Epoch 7/40\n",
      "56/56 [==============================] - ETA: 0s - loss: 0.2068 - accuracy: 0.9151\n",
      "Epoch 00007: val_loss did not improve from 0.21961\n",
      "56/56 [==============================] - 99s 2s/step - loss: 0.2068 - accuracy: 0.9151 - val_loss: 0.3726 - val_accuracy: 0.8015 - lr: 0.0010\n",
      "Epoch 8/40\n",
      "56/56 [==============================] - ETA: 0s - loss: 0.1951 - accuracy: 0.9225\n",
      "Epoch 00008: val_loss did not improve from 0.21961\n",
      "56/56 [==============================] - 95s 2s/step - loss: 0.1951 - accuracy: 0.9225 - val_loss: 0.2672 - val_accuracy: 0.8601 - lr: 0.0010\n",
      "Epoch 9/40\n",
      "56/56 [==============================] - ETA: 0s - loss: 0.1911 - accuracy: 0.9338\n",
      "Epoch 00009: val_loss did not improve from 0.21961\n",
      "56/56 [==============================] - 95s 2s/step - loss: 0.1911 - accuracy: 0.9338 - val_loss: 0.2857 - val_accuracy: 0.8745 - lr: 0.0010\n",
      "Epoch 10/40\n",
      "56/56 [==============================] - ETA: 0s - loss: 0.1905 - accuracy: 0.9196\n",
      "Epoch 00010: val_loss did not improve from 0.21961\n",
      "56/56 [==============================] - 90s 2s/step - loss: 0.1905 - accuracy: 0.9196 - val_loss: 0.2216 - val_accuracy: 0.9143 - lr: 0.0010\n",
      "Epoch 11/40\n",
      "56/56 [==============================] - ETA: 0s - loss: 0.1644 - accuracy: 0.9383\n",
      "Epoch 00011: val_loss improved from 0.21961 to 0.17884, saving model to basicCNN.hdf5\n",
      "56/56 [==============================] - 90s 2s/step - loss: 0.1644 - accuracy: 0.9383 - val_loss: 0.1788 - val_accuracy: 0.9279 - lr: 0.0010\n",
      "Epoch 12/40\n",
      "56/56 [==============================] - ETA: 0s - loss: 0.1639 - accuracy: 0.9411\n",
      "Epoch 00012: val_loss did not improve from 0.17884\n",
      "56/56 [==============================] - 90s 2s/step - loss: 0.1639 - accuracy: 0.9411 - val_loss: 0.2275 - val_accuracy: 0.9033 - lr: 0.0010\n",
      "Epoch 13/40\n",
      "56/56 [==============================] - ETA: 0s - loss: 0.1440 - accuracy: 0.9423\n",
      "Epoch 00013: val_loss did not improve from 0.17884\n",
      "56/56 [==============================] - 91s 2s/step - loss: 0.1440 - accuracy: 0.9423 - val_loss: 0.2293 - val_accuracy: 0.9016 - lr: 0.0010\n",
      "Epoch 14/40\n",
      "56/56 [==============================] - ETA: 0s - loss: 0.1518 - accuracy: 0.9428\n",
      "Epoch 00014: val_loss did not improve from 0.17884\n",
      "56/56 [==============================] - 91s 2s/step - loss: 0.1518 - accuracy: 0.9428 - val_loss: 0.2761 - val_accuracy: 0.8584 - lr: 0.0010\n",
      "Epoch 15/40\n",
      "56/56 [==============================] - ETA: 0s - loss: 0.1190 - accuracy: 0.9581\n",
      "Epoch 00015: val_loss did not improve from 0.17884\n",
      "56/56 [==============================] - 90s 2s/step - loss: 0.1190 - accuracy: 0.9581 - val_loss: 0.2336 - val_accuracy: 0.9160 - lr: 0.0010\n",
      "Epoch 16/40\n",
      "56/56 [==============================] - ETA: 0s - loss: 0.1297 - accuracy: 0.9513\n",
      "Epoch 00016: val_loss did not improve from 0.17884\n",
      "56/56 [==============================] - 90s 2s/step - loss: 0.1297 - accuracy: 0.9513 - val_loss: 0.1916 - val_accuracy: 0.9330 - lr: 0.0010\n",
      "Epoch 17/40\n",
      "56/56 [==============================] - ETA: 0s - loss: 0.1405 - accuracy: 0.9491\n",
      "Epoch 00017: val_loss did not improve from 0.17884\n",
      "56/56 [==============================] - 89s 2s/step - loss: 0.1405 - accuracy: 0.9491 - val_loss: 0.2473 - val_accuracy: 0.8813 - lr: 0.0010\n",
      "Epoch 18/40\n",
      "56/56 [==============================] - ETA: 0s - loss: 0.1323 - accuracy: 0.9485\n",
      "Epoch 00018: val_loss improved from 0.17884 to 0.17039, saving model to basicCNN.hdf5\n",
      "56/56 [==============================] - 89s 2s/step - loss: 0.1323 - accuracy: 0.9485 - val_loss: 0.1704 - val_accuracy: 0.9372 - lr: 0.0010\n",
      "Epoch 19/40\n",
      "56/56 [==============================] - ETA: 0s - loss: 0.1093 - accuracy: 0.9593\n",
      "Epoch 00019: val_loss did not improve from 0.17039\n",
      "56/56 [==============================] - 90s 2s/step - loss: 0.1093 - accuracy: 0.9593 - val_loss: 0.6019 - val_accuracy: 0.7413 - lr: 0.0010\n",
      "Epoch 20/40\n",
      "56/56 [==============================] - ETA: 0s - loss: 0.1262 - accuracy: 0.9479\n",
      "Epoch 00020: val_loss improved from 0.17039 to 0.16864, saving model to basicCNN.hdf5\n",
      "56/56 [==============================] - 89s 2s/step - loss: 0.1262 - accuracy: 0.9479 - val_loss: 0.1686 - val_accuracy: 0.9423 - lr: 0.0010\n",
      "Epoch 21/40\n",
      "56/56 [==============================] - ETA: 0s - loss: 0.1297 - accuracy: 0.9525\n",
      "Epoch 00021: val_loss did not improve from 0.16864\n",
      "56/56 [==============================] - 89s 2s/step - loss: 0.1297 - accuracy: 0.9525 - val_loss: 0.3583 - val_accuracy: 0.8889 - lr: 0.0010\n",
      "Epoch 22/40\n",
      "56/56 [==============================] - ETA: 0s - loss: 0.1117 - accuracy: 0.9587\n",
      "Epoch 00022: val_loss did not improve from 0.16864\n",
      "56/56 [==============================] - 89s 2s/step - loss: 0.1117 - accuracy: 0.9587 - val_loss: 0.3632 - val_accuracy: 0.8405 - lr: 0.0010\n",
      "Epoch 23/40\n",
      "56/56 [==============================] - ETA: 0s - loss: 0.1064 - accuracy: 0.9615\n",
      "Epoch 00023: val_loss did not improve from 0.16864\n",
      "56/56 [==============================] - 90s 2s/step - loss: 0.1064 - accuracy: 0.9615 - val_loss: 0.2286 - val_accuracy: 0.8940 - lr: 0.0010\n",
      "Epoch 24/40\n",
      "56/56 [==============================] - ETA: 0s - loss: 0.1408 - accuracy: 0.9479\n",
      "Epoch 00024: val_loss did not improve from 0.16864\n",
      "56/56 [==============================] - 90s 2s/step - loss: 0.1408 - accuracy: 0.9479 - val_loss: 0.2045 - val_accuracy: 0.9118 - lr: 0.0010\n",
      "Epoch 25/40\n",
      "56/56 [==============================] - ETA: 0s - loss: 0.1420 - accuracy: 0.9468\n",
      "Epoch 00025: val_loss did not improve from 0.16864\n",
      "56/56 [==============================] - 90s 2s/step - loss: 0.1420 - accuracy: 0.9468 - val_loss: 0.2476 - val_accuracy: 0.9254 - lr: 0.0010\n",
      "Epoch 26/40\n",
      "56/56 [==============================] - ETA: 0s - loss: 0.1141 - accuracy: 0.9604\n",
      "Epoch 00026: val_loss did not improve from 0.16864\n",
      "56/56 [==============================] - 89s 2s/step - loss: 0.1141 - accuracy: 0.9604 - val_loss: 0.4838 - val_accuracy: 0.8813 - lr: 0.0010\n",
      "Epoch 27/40\n",
      "56/56 [==============================] - ETA: 0s - loss: 0.0899 - accuracy: 0.9672\n",
      "Epoch 00027: val_loss did not improve from 0.16864\n",
      "56/56 [==============================] - 89s 2s/step - loss: 0.0899 - accuracy: 0.9672 - val_loss: 0.3660 - val_accuracy: 0.8974 - lr: 0.0010\n",
      "Epoch 28/40\n",
      "56/56 [==============================] - ETA: 0s - loss: 0.0925 - accuracy: 0.9626\n",
      "Epoch 00028: val_loss improved from 0.16864 to 0.16205, saving model to basicCNN.hdf5\n",
      "56/56 [==============================] - 88s 2s/step - loss: 0.0925 - accuracy: 0.9626 - val_loss: 0.1620 - val_accuracy: 0.9491 - lr: 0.0010\n"
     ]
    },
    {
     "name": "stdout",
     "output_type": "stream",
     "text": [
      "Epoch 29/40\n",
      "56/56 [==============================] - ETA: 0s - loss: 0.0933 - accuracy: 0.9649\n",
      "Epoch 00029: val_loss did not improve from 0.16205\n",
      "56/56 [==============================] - 88s 2s/step - loss: 0.0933 - accuracy: 0.9649 - val_loss: 0.3833 - val_accuracy: 0.9025 - lr: 0.0010\n",
      "Epoch 30/40\n",
      "56/56 [==============================] - ETA: 0s - loss: 0.0909 - accuracy: 0.9655\n",
      "Epoch 00030: val_loss did not improve from 0.16205\n",
      "56/56 [==============================] - 88s 2s/step - loss: 0.0909 - accuracy: 0.9655 - val_loss: 0.2561 - val_accuracy: 0.9211 - lr: 0.0010\n",
      "Epoch 31/40\n",
      "56/56 [==============================] - ETA: 0s - loss: 0.0742 - accuracy: 0.9723\n",
      "Epoch 00031: val_loss did not improve from 0.16205\n",
      "56/56 [==============================] - 88s 2s/step - loss: 0.0742 - accuracy: 0.9723 - val_loss: 0.2474 - val_accuracy: 0.9372 - lr: 0.0010\n",
      "Epoch 32/40\n",
      "56/56 [==============================] - ETA: 0s - loss: 0.0635 - accuracy: 0.9791\n",
      "Epoch 00032: val_loss did not improve from 0.16205\n",
      "56/56 [==============================] - 92s 2s/step - loss: 0.0635 - accuracy: 0.9791 - val_loss: 0.2020 - val_accuracy: 0.9135 - lr: 0.0010\n",
      "Epoch 33/40\n",
      "56/56 [==============================] - ETA: 0s - loss: 0.0653 - accuracy: 0.9734\n",
      "Epoch 00033: val_loss did not improve from 0.16205\n",
      "56/56 [==============================] - 90s 2s/step - loss: 0.0653 - accuracy: 0.9734 - val_loss: 0.1736 - val_accuracy: 0.9534 - lr: 0.0010\n",
      "Epoch 34/40\n",
      "56/56 [==============================] - ETA: 0s - loss: 0.0794 - accuracy: 0.9706\n",
      "Epoch 00034: val_loss did not improve from 0.16205\n",
      "56/56 [==============================] - 91s 2s/step - loss: 0.0794 - accuracy: 0.9706 - val_loss: 0.2305 - val_accuracy: 0.9381 - lr: 0.0010\n",
      "Epoch 35/40\n",
      "56/56 [==============================] - ETA: 0s - loss: 0.0677 - accuracy: 0.9740\n",
      "Epoch 00035: val_loss did not improve from 0.16205\n",
      "56/56 [==============================] - 92s 2s/step - loss: 0.0677 - accuracy: 0.9740 - val_loss: 1.5872 - val_accuracy: 0.7243 - lr: 0.0010\n",
      "Epoch 36/40\n",
      "56/56 [==============================] - ETA: 0s - loss: 0.0950 - accuracy: 0.9638\n",
      "Epoch 00036: val_loss did not improve from 0.16205\n",
      "56/56 [==============================] - 92s 2s/step - loss: 0.0950 - accuracy: 0.9638 - val_loss: 0.2084 - val_accuracy: 0.9160 - lr: 0.0010\n",
      "Epoch 37/40\n",
      "56/56 [==============================] - ETA: 0s - loss: 0.0788 - accuracy: 0.9700\n",
      "Epoch 00037: val_loss did not improve from 0.16205\n",
      "56/56 [==============================] - 95s 2s/step - loss: 0.0788 - accuracy: 0.9700 - val_loss: 0.2314 - val_accuracy: 0.9423 - lr: 0.0010\n",
      "Epoch 38/40\n",
      "56/56 [==============================] - ETA: 0s - loss: 0.0695 - accuracy: 0.9768\n",
      "Epoch 00038: ReduceLROnPlateau reducing learning rate to 0.00020000000949949026.\n",
      "\n",
      "Epoch 00038: val_loss did not improve from 0.16205\n",
      "56/56 [==============================] - 94s 2s/step - loss: 0.0695 - accuracy: 0.9768 - val_loss: 0.1954 - val_accuracy: 0.9381 - lr: 0.0010\n",
      "Epoch 39/40\n",
      "56/56 [==============================] - ETA: 0s - loss: 0.0446 - accuracy: 0.9842\n",
      "Epoch 00039: val_loss did not improve from 0.16205\n",
      "56/56 [==============================] - 96s 2s/step - loss: 0.0446 - accuracy: 0.9842 - val_loss: 0.1699 - val_accuracy: 0.9584 - lr: 2.0000e-04\n",
      "Epoch 40/40\n",
      "56/56 [==============================] - ETA: 0s - loss: 0.0376 - accuracy: 0.9870\n",
      "Epoch 00040: val_loss did not improve from 0.16205\n",
      "56/56 [==============================] - 94s 2s/step - loss: 0.0376 - accuracy: 0.9870 - val_loss: 0.1634 - val_accuracy: 0.9550 - lr: 2.0000e-04\n"
     ]
    }
   ],
   "source": [
    "classifier.compile(optimizer=Adam(learning_rate=0.001), loss='binary_crossentropy',metrics=['accuracy'])\n",
    "\n",
    "history = classifier.fit(train_gen,\n",
    "                    epochs=40, \n",
    "                    callbacks=callback_list,\n",
    "                    validation_data = val_gen)"
   ]
  },
  {
   "cell_type": "code",
   "execution_count": 16,
   "id": "86ffb14c",
   "metadata": {},
   "outputs": [
    {
     "data": {
      "image/png": "[encoded data removed]",
      "text/plain": [
       "<Figure size 432x288 with 1 Axes>"
      ]
     },
     "metadata": {
      "needs_background": "light"
     },
     "output_type": "display_data"
    },
    {
     "data": {
      "image/png": "[encoded data removed]",
      "text/plain": [
       "<Figure size 432x288 with 1 Axes>"
      ]
     },
     "metadata": {
      "needs_background": "light"
     },
     "output_type": "display_data"
    }
   ],
   "source": [
    "def loss_acc_plot(modelhistory):\n",
    "    scores = pd.DataFrame(modelhistory.history)\n",
    "    scores[['loss', 'val_loss']].plot();\n",
    "    scores[['accuracy', 'val_accuracy']].plot();\n",
    "    \n",
    "loss_acc_plot(history)"
   ]
  },
  {
   "cell_type": "code",
   "execution_count": 17,
   "id": "341564ef",
   "metadata": {},
   "outputs": [
    {
     "name": "stdout",
     "output_type": "stream",
     "text": [
      "              precision    recall  f1-score   support\n",
      "\n",
      "           0       0.95      0.99      0.97       639\n",
      "           1       0.98      0.91      0.94       344\n",
      "\n",
      "    accuracy                           0.96       983\n",
      "   macro avg       0.97      0.95      0.96       983\n",
      "weighted avg       0.96      0.96      0.96       983\n",
      "\n"
     ]
    }
   ],
   "source": [
    "def test_pred(model):\n",
    "    y_pred = np.round(model.predict(test_gen))\n",
    "    y_test = test_gen.classes\n",
    "    print(classification_report(y_test, y_pred))\n",
    "    return\n",
    "\n",
    "test_pred(classifier)"
   ]
  },
  {
   "cell_type": "markdown",
   "id": "b647397a",
   "metadata": {},
   "source": [
    "# model 2: 8 layer conv"
   ]
  },
  {
   "cell_type": "code",
   "execution_count": 18,
   "id": "9eb2e753",
   "metadata": {
    "scrolled": false
   },
   "outputs": [
    {
     "name": "stdout",
     "output_type": "stream",
     "text": [
      "Model: \"sequential_1\"\n",
      "_________________________________________________________________\n",
      " Layer (type)                Output Shape              Param #   \n",
      "=================================================================\n",
      " conv2d_4 (Conv2D)           (None, 256, 256, 32)      896       \n",
      "                                                                 \n",
      " conv2d_5 (Conv2D)           (None, 256, 256, 32)      9248      \n",
      "                                                                 \n",
      " batch_normalization_6 (Batc  (None, 256, 256, 32)     128       \n",
      " hNormalization)                                                 \n",
      "                                                                 \n",
      " max_pooling2d_4 (MaxPooling  (None, 85, 85, 32)       0         \n",
      " 2D)                                                             \n",
      "                                                                 \n",
      " conv2d_6 (Conv2D)           (None, 85, 85, 64)        18496     \n",
      "                                                                 \n",
      " conv2d_7 (Conv2D)           (None, 85, 85, 64)        36928     \n",
      "                                                                 \n",
      " batch_normalization_7 (Batc  (None, 85, 85, 64)       256       \n",
      " hNormalization)                                                 \n",
      "                                                                 \n",
      " max_pooling2d_5 (MaxPooling  (None, 28, 28, 64)       0         \n",
      " 2D)                                                             \n",
      "                                                                 \n",
      " conv2d_8 (Conv2D)           (None, 28, 28, 128)       73856     \n",
      "                                                                 \n",
      " conv2d_9 (Conv2D)           (None, 28, 28, 128)       147584    \n",
      "                                                                 \n",
      " batch_normalization_8 (Batc  (None, 28, 28, 128)      512       \n",
      " hNormalization)                                                 \n",
      "                                                                 \n",
      " max_pooling2d_6 (MaxPooling  (None, 9, 9, 128)        0         \n",
      " 2D)                                                             \n",
      "                                                                 \n",
      " conv2d_10 (Conv2D)          (None, 9, 9, 256)         295168    \n",
      "                                                                 \n",
      " conv2d_11 (Conv2D)          (None, 9, 9, 256)         590080    \n",
      "                                                                 \n",
      " batch_normalization_9 (Batc  (None, 9, 9, 256)        1024      \n",
      " hNormalization)                                                 \n",
      "                                                                 \n",
      " max_pooling2d_7 (MaxPooling  (None, 3, 3, 256)        0         \n",
      " 2D)                                                             \n",
      "                                                                 \n",
      " flatten_1 (Flatten)         (None, 2304)              0         \n",
      "                                                                 \n",
      " dense_3 (Dense)             (None, 256)               590080    \n",
      "                                                                 \n",
      " dropout (Dropout)           (None, 256)               0         \n",
      "                                                                 \n",
      " dense_4 (Dense)             (None, 1)                 257       \n",
      "                                                                 \n",
      "=================================================================\n",
      "Total params: 1,764,513\n",
      "Trainable params: 1,763,553\n",
      "Non-trainable params: 960\n",
      "_________________________________________________________________\n",
      "Epoch 1/40\n",
      "56/56 [==============================] - ETA: 0s - loss: 1.2853 - accuracy: 0.6723\n",
      "Epoch 00001: val_loss improved from inf to 2.57950, saving model to basicCNN_2.hdf5\n",
      "56/56 [==============================] - 120s 2s/step - loss: 1.2853 - accuracy: 0.6723 - val_loss: 2.5795 - val_accuracy: 0.6506 - lr: 0.0010\n",
      "Epoch 2/40\n",
      "56/56 [==============================] - ETA: 0s - loss: 0.8718 - accuracy: 0.7504\n",
      "Epoch 00002: val_loss did not improve from 2.57950\n",
      "56/56 [==============================] - 119s 2s/step - loss: 0.8718 - accuracy: 0.7504 - val_loss: 5.6152 - val_accuracy: 0.6506 - lr: 0.0010\n",
      "Epoch 3/40\n",
      "56/56 [==============================] - ETA: 0s - loss: 0.7867 - accuracy: 0.7691\n",
      "Epoch 00003: val_loss did not improve from 2.57950\n",
      "56/56 [==============================] - 118s 2s/step - loss: 0.7867 - accuracy: 0.7691 - val_loss: 5.0064 - val_accuracy: 0.6497 - lr: 0.0010\n",
      "Epoch 4/40\n",
      "56/56 [==============================] - ETA: 0s - loss: 0.7540 - accuracy: 0.7736\n",
      "Epoch 00004: val_loss improved from 2.57950 to 2.52509, saving model to basicCNN_2.hdf5\n",
      "56/56 [==============================] - 117s 2s/step - loss: 0.7540 - accuracy: 0.7736 - val_loss: 2.5251 - val_accuracy: 0.6506 - lr: 0.0010\n",
      "Epoch 5/40\n",
      "56/56 [==============================] - ETA: 0s - loss: 0.7049 - accuracy: 0.7697\n",
      "Epoch 00005: val_loss improved from 2.52509 to 1.26971, saving model to basicCNN_2.hdf5\n",
      "56/56 [==============================] - 117s 2s/step - loss: 0.7049 - accuracy: 0.7697 - val_loss: 1.2697 - val_accuracy: 0.4198 - lr: 0.0010\n",
      "Epoch 6/40\n",
      "56/56 [==============================] - ETA: 0s - loss: 0.6604 - accuracy: 0.7753\n",
      "Epoch 00006: val_loss improved from 1.26971 to 0.93249, saving model to basicCNN_2.hdf5\n",
      "56/56 [==============================] - 116s 2s/step - loss: 0.6604 - accuracy: 0.7753 - val_loss: 0.9325 - val_accuracy: 0.4843 - lr: 0.0010\n",
      "Epoch 7/40\n",
      "56/56 [==============================] - ETA: 0s - loss: 0.6222 - accuracy: 0.8036\n",
      "Epoch 00007: val_loss did not improve from 0.93249\n",
      "56/56 [==============================] - 116s 2s/step - loss: 0.6222 - accuracy: 0.8036 - val_loss: 2.4318 - val_accuracy: 0.6429 - lr: 0.0010\n",
      "Epoch 8/40\n",
      "56/56 [==============================] - ETA: 0s - loss: 0.6123 - accuracy: 0.7900\n",
      "Epoch 00008: val_loss did not improve from 0.93249\n",
      "56/56 [==============================] - 116s 2s/step - loss: 0.6123 - accuracy: 0.7900 - val_loss: 1.2265 - val_accuracy: 0.6913 - lr: 0.0010\n",
      "Epoch 9/40\n",
      "56/56 [==============================] - ETA: 0s - loss: 0.5674 - accuracy: 0.8087\n",
      "Epoch 00009: val_loss improved from 0.93249 to 0.67007, saving model to basicCNN_2.hdf5\n",
      "56/56 [==============================] - 112s 2s/step - loss: 0.5674 - accuracy: 0.8087 - val_loss: 0.6701 - val_accuracy: 0.7294 - lr: 0.0010\n",
      "Epoch 10/40\n",
      "56/56 [==============================] - ETA: 0s - loss: 0.5028 - accuracy: 0.8438\n",
      "Epoch 00010: val_loss improved from 0.67007 to 0.60348, saving model to basicCNN_2.hdf5\n",
      "56/56 [==============================] - 112s 2s/step - loss: 0.5028 - accuracy: 0.8438 - val_loss: 0.6035 - val_accuracy: 0.8338 - lr: 0.0010\n",
      "Epoch 11/40\n",
      "56/56 [==============================] - ETA: 0s - loss: 0.4768 - accuracy: 0.8574\n",
      "Epoch 00011: val_loss improved from 0.60348 to 0.51611, saving model to basicCNN_2.hdf5\n",
      "56/56 [==============================] - 112s 2s/step - loss: 0.4768 - accuracy: 0.8574 - val_loss: 0.5161 - val_accuracy: 0.8287 - lr: 0.0010\n",
      "Epoch 12/40\n",
      "56/56 [==============================] - ETA: 0s - loss: 0.5132 - accuracy: 0.8551\n",
      "Epoch 00012: val_loss improved from 0.51611 to 0.51328, saving model to basicCNN_2.hdf5\n",
      "56/56 [==============================] - 112s 2s/step - loss: 0.5132 - accuracy: 0.8551 - val_loss: 0.5133 - val_accuracy: 0.8388 - lr: 0.0010\n",
      "Epoch 13/40\n",
      "56/56 [==============================] - ETA: 0s - loss: 0.4243 - accuracy: 0.8676\n",
      "Epoch 00013: val_loss improved from 0.51328 to 0.50469, saving model to basicCNN_2.hdf5\n",
      "56/56 [==============================] - 112s 2s/step - loss: 0.4243 - accuracy: 0.8676 - val_loss: 0.5047 - val_accuracy: 0.8405 - lr: 0.0010\n",
      "Epoch 14/40\n",
      "56/56 [==============================] - ETA: 0s - loss: 0.4083 - accuracy: 0.8732\n",
      "Epoch 00014: val_loss improved from 0.50469 to 0.40231, saving model to basicCNN_2.hdf5\n",
      "56/56 [==============================] - 112s 2s/step - loss: 0.4083 - accuracy: 0.8732 - val_loss: 0.4023 - val_accuracy: 0.8923 - lr: 0.0010\n",
      "Epoch 15/40\n",
      "56/56 [==============================] - ETA: 0s - loss: 0.3662 - accuracy: 0.8925\n",
      "Epoch 00015: val_loss improved from 0.40231 to 0.37656, saving model to basicCNN_2.hdf5\n",
      "56/56 [==============================] - 112s 2s/step - loss: 0.3662 - accuracy: 0.8925 - val_loss: 0.3766 - val_accuracy: 0.9143 - lr: 0.0010\n"
     ]
    },
    {
     "name": "stdout",
     "output_type": "stream",
     "text": [
      "Epoch 16/40\n",
      "56/56 [==============================] - ETA: 0s - loss: 0.3323 - accuracy: 0.9157\n",
      "Epoch 00016: val_loss did not improve from 0.37656\n",
      "56/56 [==============================] - 112s 2s/step - loss: 0.3323 - accuracy: 0.9157 - val_loss: 0.4364 - val_accuracy: 0.8872 - lr: 0.0010\n",
      "Epoch 17/40\n",
      "56/56 [==============================] - ETA: 0s - loss: 0.3530 - accuracy: 0.8987\n",
      "Epoch 00017: val_loss did not improve from 0.37656\n",
      "56/56 [==============================] - 112s 2s/step - loss: 0.3530 - accuracy: 0.8987 - val_loss: 0.3792 - val_accuracy: 0.8779 - lr: 0.0010\n",
      "Epoch 18/40\n",
      "56/56 [==============================] - ETA: 0s - loss: 0.3455 - accuracy: 0.9049\n",
      "Epoch 00018: val_loss improved from 0.37656 to 0.32654, saving model to basicCNN_2.hdf5\n",
      "56/56 [==============================] - 112s 2s/step - loss: 0.3455 - accuracy: 0.9049 - val_loss: 0.3265 - val_accuracy: 0.9143 - lr: 0.0010\n",
      "Epoch 19/40\n",
      "56/56 [==============================] - ETA: 0s - loss: 0.3334 - accuracy: 0.9015\n",
      "Epoch 00019: val_loss did not improve from 0.32654\n",
      "56/56 [==============================] - 112s 2s/step - loss: 0.3334 - accuracy: 0.9015 - val_loss: 0.5791 - val_accuracy: 0.7506 - lr: 0.0010\n",
      "Epoch 20/40\n",
      "56/56 [==============================] - ETA: 0s - loss: 0.2947 - accuracy: 0.9236\n",
      "Epoch 00020: val_loss improved from 0.32654 to 0.32436, saving model to basicCNN_2.hdf5\n",
      "56/56 [==============================] - 111s 2s/step - loss: 0.2947 - accuracy: 0.9236 - val_loss: 0.3244 - val_accuracy: 0.9042 - lr: 0.0010\n",
      "Epoch 21/40\n",
      "56/56 [==============================] - ETA: 0s - loss: 0.3080 - accuracy: 0.9145\n",
      "Epoch 00021: val_loss did not improve from 0.32436\n",
      "56/56 [==============================] - 112s 2s/step - loss: 0.3080 - accuracy: 0.9145 - val_loss: 0.3849 - val_accuracy: 0.8897 - lr: 0.0010\n",
      "Epoch 22/40\n",
      "56/56 [==============================] - ETA: 0s - loss: 0.2899 - accuracy: 0.9225\n",
      "Epoch 00022: val_loss did not improve from 0.32436\n",
      "56/56 [==============================] - 112s 2s/step - loss: 0.2899 - accuracy: 0.9225 - val_loss: 0.4999 - val_accuracy: 0.8253 - lr: 0.0010\n",
      "Epoch 23/40\n",
      "56/56 [==============================] - ETA: 0s - loss: 0.2710 - accuracy: 0.9264\n",
      "Epoch 00023: val_loss improved from 0.32436 to 0.31149, saving model to basicCNN_2.hdf5\n",
      "56/56 [==============================] - 112s 2s/step - loss: 0.2710 - accuracy: 0.9264 - val_loss: 0.3115 - val_accuracy: 0.9118 - lr: 0.0010\n",
      "Epoch 24/40\n",
      "56/56 [==============================] - ETA: 0s - loss: 0.2433 - accuracy: 0.9440\n",
      "Epoch 00024: val_loss did not improve from 0.31149\n",
      "56/56 [==============================] - 112s 2s/step - loss: 0.2433 - accuracy: 0.9440 - val_loss: 2.4977 - val_accuracy: 0.6913 - lr: 0.0010\n",
      "Epoch 25/40\n",
      "56/56 [==============================] - ETA: 0s - loss: 0.2477 - accuracy: 0.9377\n",
      "Epoch 00025: val_loss improved from 0.31149 to 0.27918, saving model to basicCNN_2.hdf5\n",
      "56/56 [==============================] - 112s 2s/step - loss: 0.2477 - accuracy: 0.9377 - val_loss: 0.2792 - val_accuracy: 0.9296 - lr: 0.0010\n",
      "Epoch 26/40\n",
      "56/56 [==============================] - ETA: 0s - loss: 0.2355 - accuracy: 0.9349\n",
      "Epoch 00026: val_loss did not improve from 0.27918\n",
      "56/56 [==============================] - 112s 2s/step - loss: 0.2355 - accuracy: 0.9349 - val_loss: 0.5515 - val_accuracy: 0.8643 - lr: 0.0010\n",
      "Epoch 27/40\n",
      "56/56 [==============================] - ETA: 0s - loss: 0.2472 - accuracy: 0.9327\n",
      "Epoch 00027: val_loss did not improve from 0.27918\n",
      "56/56 [==============================] - 112s 2s/step - loss: 0.2472 - accuracy: 0.9327 - val_loss: 0.3615 - val_accuracy: 0.8931 - lr: 0.0010\n",
      "Epoch 28/40\n",
      "56/56 [==============================] - ETA: 0s - loss: 0.2066 - accuracy: 0.9519\n",
      "Epoch 00028: val_loss did not improve from 0.27918\n",
      "56/56 [==============================] - 112s 2s/step - loss: 0.2066 - accuracy: 0.9519 - val_loss: 0.4205 - val_accuracy: 0.8431 - lr: 0.0010\n",
      "Epoch 29/40\n",
      "56/56 [==============================] - ETA: 0s - loss: 0.2300 - accuracy: 0.9355\n",
      "Epoch 00029: val_loss improved from 0.27918 to 0.25238, saving model to basicCNN_2.hdf5\n",
      "56/56 [==============================] - 112s 2s/step - loss: 0.2300 - accuracy: 0.9355 - val_loss: 0.2524 - val_accuracy: 0.9321 - lr: 0.0010\n",
      "Epoch 30/40\n",
      "56/56 [==============================] - ETA: 0s - loss: 0.1926 - accuracy: 0.9530\n",
      "Epoch 00030: val_loss improved from 0.25238 to 0.24519, saving model to basicCNN_2.hdf5\n",
      "56/56 [==============================] - 112s 2s/step - loss: 0.1926 - accuracy: 0.9530 - val_loss: 0.2452 - val_accuracy: 0.9304 - lr: 0.0010\n",
      "Epoch 31/40\n",
      "56/56 [==============================] - ETA: 0s - loss: 0.1898 - accuracy: 0.9513\n",
      "Epoch 00031: val_loss improved from 0.24519 to 0.21060, saving model to basicCNN_2.hdf5\n",
      "56/56 [==============================] - 111s 2s/step - loss: 0.1898 - accuracy: 0.9513 - val_loss: 0.2106 - val_accuracy: 0.9457 - lr: 0.0010\n",
      "Epoch 32/40\n",
      "56/56 [==============================] - ETA: 0s - loss: 0.1944 - accuracy: 0.9491\n",
      "Epoch 00032: val_loss did not improve from 0.21060\n",
      "56/56 [==============================] - 111s 2s/step - loss: 0.1944 - accuracy: 0.9491 - val_loss: 0.3034 - val_accuracy: 0.9075 - lr: 0.0010\n",
      "Epoch 33/40\n",
      "56/56 [==============================] - ETA: 0s - loss: 0.1751 - accuracy: 0.9610\n",
      "Epoch 00033: val_loss did not improve from 0.21060\n",
      "56/56 [==============================] - 111s 2s/step - loss: 0.1751 - accuracy: 0.9610 - val_loss: 0.3440 - val_accuracy: 0.8923 - lr: 0.0010\n",
      "Epoch 34/40\n",
      "56/56 [==============================] - ETA: 0s - loss: 0.1700 - accuracy: 0.9598\n",
      "Epoch 00034: val_loss did not improve from 0.21060\n",
      "56/56 [==============================] - 112s 2s/step - loss: 0.1700 - accuracy: 0.9598 - val_loss: 0.5779 - val_accuracy: 0.8660 - lr: 0.0010\n",
      "Epoch 35/40\n",
      "56/56 [==============================] - ETA: 0s - loss: 0.1611 - accuracy: 0.9593\n",
      "Epoch 00035: val_loss did not improve from 0.21060\n",
      "56/56 [==============================] - 112s 2s/step - loss: 0.1611 - accuracy: 0.9593 - val_loss: 0.2206 - val_accuracy: 0.9313 - lr: 0.0010\n",
      "Epoch 36/40\n",
      "56/56 [==============================] - ETA: 0s - loss: 0.1979 - accuracy: 0.9474\n",
      "Epoch 00036: val_loss did not improve from 0.21060\n",
      "56/56 [==============================] - 111s 2s/step - loss: 0.1979 - accuracy: 0.9474 - val_loss: 0.4843 - val_accuracy: 0.8126 - lr: 0.0010\n",
      "Epoch 37/40\n",
      "56/56 [==============================] - ETA: 0s - loss: 0.1571 - accuracy: 0.9621\n",
      "Epoch 00037: val_loss did not improve from 0.21060\n",
      "56/56 [==============================] - 111s 2s/step - loss: 0.1571 - accuracy: 0.9621 - val_loss: 0.2318 - val_accuracy: 0.9338 - lr: 0.0010\n",
      "Epoch 38/40\n",
      "56/56 [==============================] - ETA: 0s - loss: 0.1732 - accuracy: 0.9553\n",
      "Epoch 00038: val_loss did not improve from 0.21060\n",
      "56/56 [==============================] - 111s 2s/step - loss: 0.1732 - accuracy: 0.9553 - val_loss: 0.2432 - val_accuracy: 0.9321 - lr: 0.0010\n",
      "Epoch 39/40\n",
      "56/56 [==============================] - ETA: 0s - loss: 0.1270 - accuracy: 0.9706\n",
      "Epoch 00039: val_loss did not improve from 0.21060\n",
      "56/56 [==============================] - 111s 2s/step - loss: 0.1270 - accuracy: 0.9706 - val_loss: 0.2259 - val_accuracy: 0.9432 - lr: 0.0010\n",
      "Epoch 40/40\n",
      "56/56 [==============================] - ETA: 0s - loss: 0.1497 - accuracy: 0.9632\n",
      "Epoch 00040: val_loss did not improve from 0.21060\n",
      "56/56 [==============================] - 111s 2s/step - loss: 0.1497 - accuracy: 0.9632 - val_loss: 0.2609 - val_accuracy: 0.9152 - lr: 0.0010\n"
     ]
    }
   ],
   "source": [
    "classifier2 = Sequential([\n",
    "    #Conv layer 1, 2\n",
    "    Conv2D(32, 3, activation='relu', padding='same', input_shape=(256, 256, 3)),\n",
    "    Conv2D(32, 3, activation='relu', padding='same'),\n",
    "    BatchNormalization(),\n",
    "    MaxPool2D(3),\n",
    "    \n",
    "    #Conv layer 3, 4\n",
    "    Conv2D(64, 3, activation='relu', padding='same'),\n",
    "    Conv2D(64, 3, activation='relu', padding='same'),\n",
    "    BatchNormalization(),\n",
    "    MaxPool2D(3),\n",
    "    \n",
    "    Conv2D(128, 3, activation='relu', padding='same'),\n",
    "    Conv2D(128, 3, activation='relu', padding='same'),\n",
    "    BatchNormalization(),\n",
    "    MaxPool2D(3),\n",
    "    \n",
    "    Conv2D(256, 3, activation='relu', padding='same'),\n",
    "    Conv2D(256, 3, activation='relu', padding='same'),\n",
    "    BatchNormalization(),\n",
    "    MaxPool2D(3),\n",
    "    \n",
    "    #Flatten\n",
    "    Flatten(),\n",
    "    #full connection\n",
    "    Dense(256, activation='relu', kernel_regularizer=l2(0.001)),\n",
    "    #drop out\n",
    "    Dropout(0.5),\n",
    "    #sigmoid\n",
    "    Dense(1, activation='sigmoid', kernel_regularizer=l2(0.001))\n",
    "])\n",
    "\n",
    "classifier2.summary()\n",
    "\n",
    "classifier2.compile(optimizer=Adam(learning_rate=0.001), loss='binary_crossentropy',metrics=['accuracy'])\n",
    "\n",
    "reduce_lr = ReduceLROnPlateau(monitor='val_loss', mode='min', verbose=1, patience=10,min_delta=0.0001, factor=0.2)\n",
    "checkpointer = ModelCheckpoint('basicCNN_2' +'.hdf5', verbose=1, save_best_only=True)\n",
    "earlystopping = EarlyStopping(monitor='val_loss', mode='min', verbose=1,patience=20)\n",
    "callback_list = [reduce_lr, checkpointer, earlystopping]\n",
    "\n",
    "history = classifier2.fit(train_gen,\n",
    "                    epochs=40, \n",
    "                    callbacks=callback_list,\n",
    "                    validation_data = val_gen)"
   ]
  },
  {
   "cell_type": "code",
   "execution_count": 19,
   "id": "1107c83f",
   "metadata": {},
   "outputs": [
    {
     "name": "stdout",
     "output_type": "stream",
     "text": [
      "              precision    recall  f1-score   support\n",
      "\n",
      "           0       0.94      0.91      0.93       639\n",
      "           1       0.85      0.90      0.87       344\n",
      "\n",
      "    accuracy                           0.91       983\n",
      "   macro avg       0.90      0.91      0.90       983\n",
      "weighted avg       0.91      0.91      0.91       983\n",
      "\n"
     ]
    },
    {
     "data": {
      "image/png": "[encoded data removed]",
      "text/plain": [
       "<Figure size 432x288 with 1 Axes>"
      ]
     },
     "metadata": {
      "needs_background": "light"
     },
     "output_type": "display_data"
    },
    {
     "data": {
      "image/png": "[encoded data removed]",
      "text/plain": [
       "<Figure size 432x288 with 1 Axes>"
      ]
     },
     "metadata": {
      "needs_background": "light"
     },
     "output_type": "display_data"
    }
   ],
   "source": [
    "loss_acc_plot(history)\n",
    "test_pred(classifier2)"
   ]
  },
  {
   "cell_type": "markdown",
   "id": "ac11b8f6",
   "metadata": {},
   "source": [
    "# model 3: 3 layer conv"
   ]
  },
  {
   "cell_type": "code",
   "execution_count": 22,
   "id": "4a30523e",
   "metadata": {},
   "outputs": [],
   "source": [
    "classifier_1 = Sequential([\n",
    "    \n",
    "                Conv2D(64,3,activation='relu',input_shape=(256,256,3)),\n",
    "                BatchNormalization(),              \n",
    "                MaxPooling2D(3),\n",
    "    \n",
    "                Conv2D(128,3,activation='relu'),\n",
    "                BatchNormalization(),\n",
    "                MaxPooling2D(3),\n",
    "\n",
    "                Conv2D(256,3,padding='valid',activation='relu'),\n",
    "                BatchNormalization(),\n",
    "                MaxPooling2D(3),\n",
    "\n",
    "                Flatten(),\n",
    "    \n",
    "                Dense(1024,activation='relu'),\n",
    "                BatchNormalization(),\n",
    "    \n",
    "                Dense(256,activation='relu'),\n",
    "                BatchNormalization(),\n",
    "    \n",
    "                Dense(1,activation='sigmoid')\n",
    "                  \n",
    "])\n",
    "\n"
   ]
  },
  {
   "cell_type": "code",
   "execution_count": 23,
   "id": "995c0b50",
   "metadata": {
    "scrolled": false
   },
   "outputs": [
    {
     "name": "stdout",
     "output_type": "stream",
     "text": [
      "Model: \"sequential_3\"\n",
      "_________________________________________________________________\n",
      " Layer (type)                Output Shape              Param #   \n",
      "=================================================================\n",
      " conv2d_15 (Conv2D)          (None, 254, 254, 64)      1792      \n",
      "                                                                 \n",
      " batch_normalization_15 (Bat  (None, 254, 254, 64)     256       \n",
      " chNormalization)                                                \n",
      "                                                                 \n",
      " max_pooling2d_11 (MaxPoolin  (None, 84, 84, 64)       0         \n",
      " g2D)                                                            \n",
      "                                                                 \n",
      " conv2d_16 (Conv2D)          (None, 82, 82, 128)       73856     \n",
      "                                                                 \n",
      " batch_normalization_16 (Bat  (None, 82, 82, 128)      512       \n",
      " chNormalization)                                                \n",
      "                                                                 \n",
      " max_pooling2d_12 (MaxPoolin  (None, 27, 27, 128)      0         \n",
      " g2D)                                                            \n",
      "                                                                 \n",
      " conv2d_17 (Conv2D)          (None, 25, 25, 256)       295168    \n",
      "                                                                 \n",
      " batch_normalization_17 (Bat  (None, 25, 25, 256)      1024      \n",
      " chNormalization)                                                \n",
      "                                                                 \n",
      " max_pooling2d_13 (MaxPoolin  (None, 8, 8, 256)        0         \n",
      " g2D)                                                            \n",
      "                                                                 \n",
      " flatten_3 (Flatten)         (None, 16384)             0         \n",
      "                                                                 \n",
      " dense_8 (Dense)             (None, 1024)              16778240  \n",
      "                                                                 \n",
      " batch_normalization_18 (Bat  (None, 1024)             4096      \n",
      " chNormalization)                                                \n",
      "                                                                 \n",
      " dense_9 (Dense)             (None, 256)               262400    \n",
      "                                                                 \n",
      " batch_normalization_19 (Bat  (None, 256)              1024      \n",
      " chNormalization)                                                \n",
      "                                                                 \n",
      " dense_10 (Dense)            (None, 1)                 257       \n",
      "                                                                 \n",
      "=================================================================\n",
      "Total params: 17,418,625\n",
      "Trainable params: 17,415,169\n",
      "Non-trainable params: 3,456\n",
      "_________________________________________________________________\n",
      "Epoch 1/40\n",
      "56/56 [==============================] - ETA: 0s - loss: 0.5855 - accuracy: 0.7267\n",
      "Epoch 00001: val_loss improved from inf to 2.19704, saving model to basicCNN_1.hdf5\n",
      "56/56 [==============================] - 105s 2s/step - loss: 0.5855 - accuracy: 0.7267 - val_loss: 2.1970 - val_accuracy: 0.6506 - lr: 0.0010\n",
      "Epoch 2/40\n",
      "56/56 [==============================] - ETA: 0s - loss: 0.3845 - accuracy: 0.8138\n",
      "Epoch 00002: val_loss did not improve from 2.19704\n",
      "56/56 [==============================] - 100s 2s/step - loss: 0.3845 - accuracy: 0.8138 - val_loss: 2.3534 - val_accuracy: 0.6506 - lr: 0.0010\n",
      "Epoch 3/40\n",
      "56/56 [==============================] - ETA: 0s - loss: 0.3650 - accuracy: 0.8274\n",
      "Epoch 00003: val_loss improved from 2.19704 to 1.27022, saving model to basicCNN_1.hdf5\n",
      "56/56 [==============================] - 104s 2s/step - loss: 0.3650 - accuracy: 0.8274 - val_loss: 1.2702 - val_accuracy: 0.3545 - lr: 0.0010\n",
      "Epoch 4/40\n",
      "56/56 [==============================] - ETA: 0s - loss: 0.3190 - accuracy: 0.8455\n",
      "Epoch 00004: val_loss improved from 1.27022 to 0.60822, saving model to basicCNN_1.hdf5\n",
      "56/56 [==============================] - 103s 2s/step - loss: 0.3190 - accuracy: 0.8455 - val_loss: 0.6082 - val_accuracy: 0.7252 - lr: 0.0010\n",
      "Epoch 5/40\n",
      "56/56 [==============================] - ETA: 0s - loss: 0.3092 - accuracy: 0.8580\n",
      "Epoch 00005: val_loss did not improve from 0.60822\n",
      "56/56 [==============================] - 101s 2s/step - loss: 0.3092 - accuracy: 0.8580 - val_loss: 1.6652 - val_accuracy: 0.3596 - lr: 0.0010\n",
      "Epoch 6/40\n",
      "56/56 [==============================] - ETA: 0s - loss: 0.2939 - accuracy: 0.8636\n",
      "Epoch 00006: val_loss improved from 0.60822 to 0.57888, saving model to basicCNN_1.hdf5\n",
      "56/56 [==============================] - 102s 2s/step - loss: 0.2939 - accuracy: 0.8636 - val_loss: 0.5789 - val_accuracy: 0.7243 - lr: 0.0010\n",
      "Epoch 7/40\n",
      "56/56 [==============================] - ETA: 0s - loss: 0.2709 - accuracy: 0.8789\n",
      "Epoch 00007: val_loss improved from 0.57888 to 0.42244, saving model to basicCNN_1.hdf5\n",
      "56/56 [==============================] - 101s 2s/step - loss: 0.2709 - accuracy: 0.8789 - val_loss: 0.4224 - val_accuracy: 0.8032 - lr: 0.0010\n",
      "Epoch 8/40\n",
      "56/56 [==============================] - ETA: 0s - loss: 0.2475 - accuracy: 0.8919\n",
      "Epoch 00008: val_loss did not improve from 0.42244\n",
      "56/56 [==============================] - 102s 2s/step - loss: 0.2475 - accuracy: 0.8919 - val_loss: 0.4708 - val_accuracy: 0.7947 - lr: 0.0010\n",
      "Epoch 9/40\n",
      "56/56 [==============================] - ETA: 0s - loss: 0.2697 - accuracy: 0.8902\n",
      "Epoch 00009: val_loss did not improve from 0.42244\n",
      "56/56 [==============================] - 100s 2s/step - loss: 0.2697 - accuracy: 0.8902 - val_loss: 0.4443 - val_accuracy: 0.8083 - lr: 0.0010\n",
      "Epoch 10/40\n",
      "56/56 [==============================] - ETA: 0s - loss: 0.2305 - accuracy: 0.9027\n",
      "Epoch 00010: val_loss improved from 0.42244 to 0.35851, saving model to basicCNN_1.hdf5\n",
      "56/56 [==============================] - 100s 2s/step - loss: 0.2305 - accuracy: 0.9027 - val_loss: 0.3585 - val_accuracy: 0.8304 - lr: 0.0010\n",
      "Epoch 11/40\n",
      "56/56 [==============================] - ETA: 0s - loss: 0.2298 - accuracy: 0.9032\n",
      "Epoch 00011: val_loss improved from 0.35851 to 0.30585, saving model to basicCNN_1.hdf5\n",
      "56/56 [==============================] - 99s 2s/step - loss: 0.2298 - accuracy: 0.9032 - val_loss: 0.3059 - val_accuracy: 0.8592 - lr: 0.0010\n",
      "Epoch 12/40\n",
      "56/56 [==============================] - ETA: 0s - loss: 0.2122 - accuracy: 0.9066\n",
      "Epoch 00012: val_loss did not improve from 0.30585\n",
      "56/56 [==============================] - 99s 2s/step - loss: 0.2122 - accuracy: 0.9066 - val_loss: 0.4161 - val_accuracy: 0.8338 - lr: 0.0010\n",
      "Epoch 13/40\n",
      "56/56 [==============================] - ETA: 0s - loss: 0.2094 - accuracy: 0.9095\n",
      "Epoch 00013: val_loss did not improve from 0.30585\n",
      "56/56 [==============================] - 100s 2s/step - loss: 0.2094 - accuracy: 0.9095 - val_loss: 0.8188 - val_accuracy: 0.7761 - lr: 0.0010\n",
      "Epoch 14/40\n",
      "56/56 [==============================] - ETA: 0s - loss: 0.2431 - accuracy: 0.9015\n",
      "Epoch 00014: val_loss did not improve from 0.30585\n",
      "56/56 [==============================] - 102s 2s/step - loss: 0.2431 - accuracy: 0.9015 - val_loss: 2.9758 - val_accuracy: 0.6514 - lr: 0.0010\n",
      "Epoch 15/40\n",
      "56/56 [==============================] - ETA: 0s - loss: 0.2471 - accuracy: 0.9004\n",
      "Epoch 00015: val_loss did not improve from 0.30585\n",
      "56/56 [==============================] - 101s 2s/step - loss: 0.2471 - accuracy: 0.9004 - val_loss: 0.4876 - val_accuracy: 0.8092 - lr: 0.0010\n",
      "Epoch 16/40\n",
      "56/56 [==============================] - ETA: 0s - loss: 0.2047 - accuracy: 0.9100\n",
      "Epoch 00016: val_loss did not improve from 0.30585\n",
      "56/56 [==============================] - 102s 2s/step - loss: 0.2047 - accuracy: 0.9100 - val_loss: 0.5172 - val_accuracy: 0.7193 - lr: 0.0010\n",
      "Epoch 17/40\n",
      "56/56 [==============================] - ETA: 0s - loss: 0.1932 - accuracy: 0.9196\n",
      "Epoch 00017: val_loss improved from 0.30585 to 0.26294, saving model to basicCNN_1.hdf5\n",
      "56/56 [==============================] - 103s 2s/step - loss: 0.1932 - accuracy: 0.9196 - val_loss: 0.2629 - val_accuracy: 0.8999 - lr: 0.0010\n",
      "Epoch 18/40\n",
      "56/56 [==============================] - ETA: 0s - loss: 0.1880 - accuracy: 0.9230\n",
      "Epoch 00018: val_loss did not improve from 0.26294\n",
      "56/56 [==============================] - 102s 2s/step - loss: 0.1880 - accuracy: 0.9230 - val_loss: 0.3339 - val_accuracy: 0.8702 - lr: 0.0010\n",
      "Epoch 19/40\n",
      "56/56 [==============================] - ETA: 0s - loss: 0.1724 - accuracy: 0.9321\n",
      "Epoch 00019: val_loss improved from 0.26294 to 0.21903, saving model to basicCNN_1.hdf5\n",
      "56/56 [==============================] - 103s 2s/step - loss: 0.1724 - accuracy: 0.9321 - val_loss: 0.2190 - val_accuracy: 0.9101 - lr: 0.0010\n",
      "Epoch 20/40\n",
      "56/56 [==============================] - ETA: 0s - loss: 0.1755 - accuracy: 0.9281\n",
      "Epoch 00020: val_loss did not improve from 0.21903\n",
      "56/56 [==============================] - 102s 2s/step - loss: 0.1755 - accuracy: 0.9281 - val_loss: 0.3253 - val_accuracy: 0.8719 - lr: 0.0010\n",
      "Epoch 21/40\n",
      "56/56 [==============================] - ETA: 0s - loss: 0.1683 - accuracy: 0.9383\n",
      "Epoch 00021: val_loss did not improve from 0.21903\n",
      "56/56 [==============================] - 101s 2s/step - loss: 0.1683 - accuracy: 0.9383 - val_loss: 0.2880 - val_accuracy: 0.8779 - lr: 0.0010\n",
      "Epoch 22/40\n",
      "56/56 [==============================] - ETA: 0s - loss: 0.1654 - accuracy: 0.9372\n",
      "Epoch 00022: val_loss did not improve from 0.21903\n",
      "56/56 [==============================] - 99s 2s/step - loss: 0.1654 - accuracy: 0.9372 - val_loss: 0.3416 - val_accuracy: 0.8490 - lr: 0.0010\n",
      "Epoch 23/40\n",
      "56/56 [==============================] - ETA: 0s - loss: 0.1535 - accuracy: 0.9377\n",
      "Epoch 00023: val_loss did not improve from 0.21903\n",
      "56/56 [==============================] - 103s 2s/step - loss: 0.1535 - accuracy: 0.9377 - val_loss: 0.5159 - val_accuracy: 0.8456 - lr: 0.0010\n",
      "Epoch 24/40\n",
      "56/56 [==============================] - ETA: 0s - loss: 0.2801 - accuracy: 0.8812\n",
      "Epoch 00024: val_loss did not improve from 0.21903\n",
      "56/56 [==============================] - 102s 2s/step - loss: 0.2801 - accuracy: 0.8812 - val_loss: 0.9219 - val_accuracy: 0.7209 - lr: 0.0010\n",
      "Epoch 25/40\n",
      "56/56 [==============================] - ETA: 0s - loss: 0.2281 - accuracy: 0.9015\n",
      "Epoch 00025: val_loss did not improve from 0.21903\n",
      "56/56 [==============================] - 97s 2s/step - loss: 0.2281 - accuracy: 0.9015 - val_loss: 0.5238 - val_accuracy: 0.7990 - lr: 0.0010\n",
      "Epoch 26/40\n",
      "56/56 [==============================] - ETA: 0s - loss: 0.1715 - accuracy: 0.9298\n",
      "Epoch 00026: val_loss did not improve from 0.21903\n",
      "56/56 [==============================] - 103s 2s/step - loss: 0.1715 - accuracy: 0.9298 - val_loss: 0.2901 - val_accuracy: 0.8838 - lr: 0.0010\n",
      "Epoch 27/40\n",
      "56/56 [==============================] - ETA: 0s - loss: 0.1597 - accuracy: 0.9332\n",
      "Epoch 00027: val_loss did not improve from 0.21903\n",
      "56/56 [==============================] - 107s 2s/step - loss: 0.1597 - accuracy: 0.9332 - val_loss: 0.2589 - val_accuracy: 0.9008 - lr: 0.0010\n",
      "Epoch 28/40\n",
      "56/56 [==============================] - ETA: 0s - loss: 0.1391 - accuracy: 0.9451\n",
      "Epoch 00028: val_loss did not improve from 0.21903\n",
      "56/56 [==============================] - 110s 2s/step - loss: 0.1391 - accuracy: 0.9451 - val_loss: 0.2554 - val_accuracy: 0.9075 - lr: 0.0010\n",
      "Epoch 29/40\n",
      "56/56 [==============================] - ETA: 0s - loss: 0.1514 - accuracy: 0.9406\n",
      "Epoch 00029: ReduceLROnPlateau reducing learning rate to 0.00020000000949949026.\n",
      "\n",
      "Epoch 00029: val_loss did not improve from 0.21903\n",
      "56/56 [==============================] - 110s 2s/step - loss: 0.1514 - accuracy: 0.9406 - val_loss: 0.4338 - val_accuracy: 0.8575 - lr: 0.0010\n",
      "Epoch 30/40\n",
      "56/56 [==============================] - ETA: 0s - loss: 0.1074 - accuracy: 0.9581\n",
      "Epoch 00030: val_loss did not improve from 0.21903\n",
      "56/56 [==============================] - 111s 2s/step - loss: 0.1074 - accuracy: 0.9581 - val_loss: 0.2695 - val_accuracy: 0.9033 - lr: 2.0000e-04\n",
      "Epoch 31/40\n",
      "56/56 [==============================] - ETA: 0s - loss: 0.0930 - accuracy: 0.9649\n",
      "Epoch 00031: val_loss did not improve from 0.21903\n",
      "56/56 [==============================] - 110s 2s/step - loss: 0.0930 - accuracy: 0.9649 - val_loss: 0.2648 - val_accuracy: 0.9008 - lr: 2.0000e-04\n",
      "Epoch 32/40\n",
      "56/56 [==============================] - ETA: 0s - loss: 0.0762 - accuracy: 0.9734\n",
      "Epoch 00032: val_loss did not improve from 0.21903\n",
      "56/56 [==============================] - 111s 2s/step - loss: 0.0762 - accuracy: 0.9734 - val_loss: 0.2583 - val_accuracy: 0.9092 - lr: 2.0000e-04\n",
      "Epoch 33/40\n",
      "56/56 [==============================] - ETA: 0s - loss: 0.0821 - accuracy: 0.9660\n",
      "Epoch 00033: val_loss improved from 0.21903 to 0.19529, saving model to basicCNN_1.hdf5\n",
      "56/56 [==============================] - 111s 2s/step - loss: 0.0821 - accuracy: 0.9660 - val_loss: 0.1953 - val_accuracy: 0.9313 - lr: 2.0000e-04\n",
      "Epoch 34/40\n",
      "56/56 [==============================] - ETA: 0s - loss: 0.0919 - accuracy: 0.9683\n",
      "Epoch 00034: val_loss improved from 0.19529 to 0.17538, saving model to basicCNN_1.hdf5\n",
      "56/56 [==============================] - 112s 2s/step - loss: 0.0919 - accuracy: 0.9683 - val_loss: 0.1754 - val_accuracy: 0.9372 - lr: 2.0000e-04\n",
      "Epoch 35/40\n",
      "56/56 [==============================] - ETA: 0s - loss: 0.0694 - accuracy: 0.9757\n",
      "Epoch 00035: val_loss did not improve from 0.17538\n",
      "56/56 [==============================] - 111s 2s/step - loss: 0.0694 - accuracy: 0.9757 - val_loss: 0.1837 - val_accuracy: 0.9271 - lr: 2.0000e-04\n",
      "Epoch 36/40\n",
      "56/56 [==============================] - ETA: 0s - loss: 0.0659 - accuracy: 0.9779\n",
      "Epoch 00036: val_loss improved from 0.17538 to 0.17534, saving model to basicCNN_1.hdf5\n",
      "56/56 [==============================] - 100s 2s/step - loss: 0.0659 - accuracy: 0.9779 - val_loss: 0.1753 - val_accuracy: 0.9313 - lr: 2.0000e-04\n",
      "Epoch 37/40\n",
      "56/56 [==============================] - ETA: 0s - loss: 0.0697 - accuracy: 0.9728\n",
      "Epoch 00037: val_loss did not improve from 0.17534\n",
      "56/56 [==============================] - 97s 2s/step - loss: 0.0697 - accuracy: 0.9728 - val_loss: 0.1903 - val_accuracy: 0.9355 - lr: 2.0000e-04\n",
      "Epoch 38/40\n",
      "56/56 [==============================] - ETA: 0s - loss: 0.1070 - accuracy: 0.9598\n",
      "Epoch 00038: val_loss did not improve from 0.17534\n",
      "56/56 [==============================] - 102s 2s/step - loss: 0.1070 - accuracy: 0.9598 - val_loss: 0.2494 - val_accuracy: 0.9143 - lr: 2.0000e-04\n",
      "Epoch 39/40\n",
      "56/56 [==============================] - ETA: 0s - loss: 0.0816 - accuracy: 0.9694\n",
      "Epoch 00039: val_loss did not improve from 0.17534\n",
      "56/56 [==============================] - 101s 2s/step - loss: 0.0816 - accuracy: 0.9694 - val_loss: 0.2225 - val_accuracy: 0.9262 - lr: 2.0000e-04\n",
      "Epoch 40/40\n",
      "56/56 [==============================] - ETA: 0s - loss: 0.0588 - accuracy: 0.9779\n",
      "Epoch 00040: val_loss did not improve from 0.17534\n",
      "56/56 [==============================] - 98s 2s/step - loss: 0.0588 - accuracy: 0.9779 - val_loss: 0.1835 - val_accuracy: 0.9321 - lr: 2.0000e-04\n",
      "              precision    recall  f1-score   support\n",
      "\n",
      "           0       0.94      0.97      0.95       639\n",
      "           1       0.94      0.88      0.91       344\n",
      "\n",
      "    accuracy                           0.94       983\n",
      "   macro avg       0.94      0.93      0.93       983\n",
      "weighted avg       0.94      0.94      0.94       983\n",
      "\n"
     ]
    },
    {
     "data": {
      "image/png": "[encoded data removed]",
      "text/plain": [
       "<Figure size 432x288 with 1 Axes>"
      ]
     },
     "metadata": {
      "needs_background": "light"
     },
     "output_type": "display_data"
    },
    {
     "data": {
      "image/png": "[encoded data removed]",
      "text/plain": [
       "<Figure size 432x288 with 1 Axes>"
      ]
     },
     "metadata": {
      "needs_background": "light"
     },
     "output_type": "display_data"
    }
   ],
   "source": [
    "classifier_1.summary()\n",
    "\n",
    "classifier_1.compile(optimizer=Adam(learning_rate=0.001), loss='binary_crossentropy',metrics=['accuracy'])\n",
    "\n",
    "reduce_lr = ReduceLROnPlateau(monitor='val_loss', mode='min', verbose=1, patience=10,min_delta=0.0001, factor=0.2)\n",
    "checkpointer = ModelCheckpoint('basicCNN_1' +'.hdf5', verbose=1, save_best_only=True)\n",
    "earlystopping = EarlyStopping(monitor='val_loss', mode='min', verbose=1,patience=20)\n",
    "callback_list = [reduce_lr, checkpointer, earlystopping]\n",
    "\n",
    "history = classifier_1.fit(train_gen,\n",
    "                    epochs=40, \n",
    "                    callbacks=callback_list,\n",
    "                    validation_data = val_gen)\n",
    "\n",
    "loss_acc_plot(history)\n",
    "test_pred(classifier_1)"
   ]
  },
  {
   "cell_type": "code",
   "execution_count": null,
   "id": "e1daea26",
   "metadata": {},
   "outputs": [],
   "source": []
  }
 ],
 "metadata": {
  "kernelspec": {
   "display_name": "Python 3",
   "language": "python",
   "name": "python3"
  },
  "language_info": {
   "codemirror_mode": {
    "name": "ipython",
    "version": 3
   },
   "file_extension": ".py",
   "mimetype": "text/x-python",
   "name": "python",
   "nbconvert_exporter": "python",
   "pygments_lexer": "ipython3",
   "version": "3.7.10"
  }
 },
 "nbformat": 4,
 "nbformat_minor": 5
}
